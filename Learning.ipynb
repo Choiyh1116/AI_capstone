{
  "cells": [
    {
      "cell_type": "markdown",
      "metadata": {
        "id": "view-in-github",
        "colab_type": "text"
      },
      "source": [
        "<a href=\"https://colab.research.google.com/github/Choiyh1116/AI_capstone/blob/CHOI/Learning.ipynb\" target=\"_parent\"><img src=\"https://colab.research.google.com/assets/colab-badge.svg\" alt=\"Open In Colab\"/></a>"
      ]
    },
    {
      "cell_type": "markdown",
      "metadata": {
        "id": "bZ_jOHc1-wjG"
      },
      "source": [
        "# 라이브러리 "
      ]
    },
    {
      "cell_type": "code",
      "execution_count": 1,
      "metadata": {
        "id": "lTy0eKVB9y-1",
        "colab": {
          "base_uri": "https://localhost:8080/"
        },
        "outputId": "a5bbe72b-fcfe-4a2e-92f4-017a140aba3d"
      },
      "outputs": [
        {
          "output_type": "stream",
          "name": "stdout",
          "text": [
            "Looking in indexes: https://pypi.org/simple, https://us-python.pkg.dev/colab-wheels/public/simple/\n",
            "Collecting imagehash\n",
            "  Downloading ImageHash-4.3.1-py2.py3-none-any.whl (296 kB)\n",
            "\u001b[K     |████████████████████████████████| 296 kB 4.1 MB/s \n",
            "\u001b[?25hRequirement already satisfied: numpy in /usr/local/lib/python3.8/dist-packages (from imagehash) (1.21.6)\n",
            "Requirement already satisfied: scipy in /usr/local/lib/python3.8/dist-packages (from imagehash) (1.7.3)\n",
            "Requirement already satisfied: pillow in /usr/local/lib/python3.8/dist-packages (from imagehash) (7.1.2)\n",
            "Requirement already satisfied: PyWavelets in /usr/local/lib/python3.8/dist-packages (from imagehash) (1.4.1)\n",
            "Installing collected packages: imagehash\n",
            "Successfully installed imagehash-4.3.1\n"
          ]
        }
      ],
      "source": [
        "!pip install imagehash\n",
        "\n",
        "from skimage.metrics import structural_similarity as ssim #method to compare image \n",
        "import matplotlib.pyplot as plt\n",
        "%matplotlib inline \n",
        "import numpy as np #calculate \n",
        "import cv2 # to Image loaded\n",
        "import os, sys # to drive mount for Colab\n",
        "from google.colab.patches import cv2_imshow # to show image for Colab\n",
        "from PIL import Image\n",
        "import imagehash\n"
      ]
    },
    {
      "cell_type": "markdown",
      "metadata": {
        "id": "k3Uk-2K19zre"
      },
      "source": [
        "# 함수"
      ]
    },
    {
      "cell_type": "code",
      "execution_count": 60,
      "metadata": {
        "id": "uI8MaGhN1SHT"
      },
      "outputs": [],
      "source": [
        "#driveMount(\"/content/drive/MyDrive/video\")\n",
        "def driveMount(path):\n",
        "  from google.colab import drive\n",
        "  drive.mount('/content/drive')\n",
        "  os.chdir(path)\n",
        "\n",
        "#MSE(Mean Square Error)\n",
        "def mse(x,y): return np.sqrt(((x-y)**2).sum())/(x.shape[0])\n",
        "\n",
        "#video convert image list\n",
        "def video_to_image(vidName)->list:\n",
        "  video = cv2.VideoCapture(vidName) #'' 사이에 사용할 비디오 파일의 경로 및 이름을 넣어주도록 함\n",
        "  \n",
        "  if not video.isOpened():\n",
        "    print(\"Could not Open :\", vidName) ; exit(0)\n",
        "  width = int(video.get(cv2.CAP_PROP_FRAME_WIDTH))\n",
        "  height = int(video.get(cv2.CAP_PROP_FRAME_HEIGHT))\n",
        "  length = int(video.get(cv2.CAP_PROP_FRAME_COUNT)) ; fps = video.get(cv2.CAP_PROP_FPS) ; count = 0 ; Video_list = [] ; threshold = 5 # 아무거나 일단\n",
        "  min, sec = minSec(int(length/round(fps))) ; count = 0\n",
        "  print(\"width :\",width) ; print(\"height :\",height)\n",
        "  print(\"min :\", min) ; print(\"sec :\",sec) ; print(\"fps :\", fps)\n",
        "  \n",
        "  while(video.isOpened()):\n",
        "    ret,image = video.read()\n",
        "    if ret:\n",
        "        if(int(video.get(1)) % round(fps) == 0):\n",
        "            if(count != 0):\n",
        "                image = cv2_to_Image(image)\n",
        "                hash = imagehash.dhash(image)\n",
        "                otherhash = temp\n",
        "                Video_list.append(hash-otherhash)\n",
        "                temp = hash\n",
        "            else :\n",
        "                count += 1\n",
        "                image = cv2_to_Image(image)\n",
        "                temp = imagehash.dhash(image)\n",
        "          \n",
        "    else :\n",
        "        break\n",
        "\n",
        "  video.release()\n",
        "  return width,height,Video_list\n",
        "\n",
        "#divide time to min , sec\n",
        "def minSec(time) : \n",
        "  min = int(time // 60) ; sec = time%60\n",
        "  return min, sec\n",
        "\n",
        "def cv2_to_Image(img: np.ndarray) -> Image:\n",
        "    # return Image.fromarray(cv2.cvtColor(img, cv2.COLOR_BGR2RGB))\n",
        "    return Image.fromarray(img)\n",
        "\n",
        "\n",
        "def image_to_cv2(img: Image) -> np.ndarray:\n",
        "    # return cv2.cvtColor(numpy.array(img), cv2.COLOR_RGB2BGR)\n",
        "    return np.asarray(img)\n",
        "\n",
        "def show_images(Video_list):\n",
        "    for i, img in enumerate(Video_list):\n",
        "        plt.subplot(131+i)\n",
        "        plt.imshow(img/255.0)\n",
        "\n",
        "def calculate_scores(Video_list, ssim=False):\n",
        "    org =Video_list[0]\n",
        "    \n",
        "    for i, img in enumerate(Video_list,start = 1):\n",
        "        min, sec = minSec(i)\n",
        "        mse_score = mse(org.flatten(), img.flatten())\n",
        "        if ssim: \n",
        "            ssim_score = ssim(org, img, multichannel=True)\n",
        "            label = \"min {} sec {}; MSE: {:.4f}, SSIM: {:.4f}\"\n",
        "            \n",
        "            print(label.format(min, sec, mse_score, ssim_score ))\n",
        "            \n",
        "        else:\n",
        "            label = \"min {} sec {}; MSE: {:.4f}\"\n",
        "            print(label.format(min, sec, mse_score))\n",
        "        org = img\n",
        "\n",
        "#Average Hash\n",
        "def average_hash(img):\n",
        "    img = cv2_to_Image(img)\n",
        "    img = img.convert(\"L\") \n",
        "    img = img.resize((256,256), Image.ANTIALIAS) \n",
        "    pixel_data = img.getdata() \n",
        "    pixels = np.array(pixel_data) \n",
        "    pixels = pixels.reshape((256, 256)) \n",
        "    avg = pixels.mean() \n",
        "    diff = 1 * (pixels > avg) \n",
        "    return diff\n",
        "\n",
        "# 이진 해시로 변환\n",
        "def np2hash(ahash):\n",
        "    bhash = []\n",
        "    for nl in ahash.tolist():\n",
        "        sl = [str(i) for i in nl]\n",
        "        s2 = \"\".join(sl)\n",
        "        i = int(s2, 2) # 이진수를 정수로 변환하기\n",
        "        bhash.append(\"%04x\" % i)\n",
        "    return \"\".join(bhash)\n",
        "\n",
        "#해밍 거리 계산\n",
        "def hamming_dist(a, b):\n",
        "    aa = a.reshape(1, -1) # 1차원 배열로 변환하기\n",
        "    ab = b.reshape(1, -1)\n",
        "    dist = (aa != ab).sum()\n",
        "    return dist\n",
        "\n",
        "def image_Processing(img):\n",
        "  image_w = 64 ; image_h = 64\n",
        "  img = img.convert(\"RGB\")\n",
        "  img = img.reshape(-1,image_w,image_h,1).astype('float32') / 255.\n",
        "  return img"
      ]
    },
    {
      "cell_type": "markdown",
      "metadata": {
        "id": "lhFyhVS3D-RO"
      },
      "source": [
        "# Main"
      ]
    },
    {
      "cell_type": "code",
      "execution_count": 92,
      "metadata": {
        "id": "54kzcLDEDR6y",
        "colab": {
          "base_uri": "https://localhost:8080/"
        },
        "outputId": "df3db75e-e91d-4485-c7d5-838aa447a0f6"
      },
      "outputs": [
        {
          "output_type": "stream",
          "name": "stdout",
          "text": [
            "Drive already mounted at /content/drive; to attempt to forcibly remount, call drive.mount(\"/content/drive\", force_remount=True).\n",
            "width : 1280\n",
            "height : 720\n",
            "min : 60\n",
            "sec : 45\n",
            "fps : 10.0\n"
          ]
        }
      ],
      "source": [
        "driveMount(\"/content/drive/MyDrive/video\")\n",
        "width,height,Video_list = video_to_image(\"11.mp4\")\n",
        "\n",
        " "
      ]
    },
    {
      "cell_type": "code",
      "source": [
        "import numpy as np\n",
        "import matplotlib.pyplot as plt\n",
        "from scipy.cluster.hierarchy import dendrogram, linkage\n",
        "\n",
        "y = Video_list\n",
        "x = list(range(len(y)))\n",
        "data = list(zip(x,y))\n",
        "\n",
        "#linkage_data = linkage(data, method='average', metric='euclidean')\n",
        "#dendrogram(linkage_data)\n",
        "plt.plot(x,y,color='green',linestyle='',marker='.')\n",
        "plt.grid()\n",
        "plt.xlabel('time')\n",
        "plt.ylabel('Similarity')\n",
        "plt.title(\"Video\")\n",
        "\n",
        "plt.show()"
      ],
      "metadata": {
        "colab": {
          "base_uri": "https://localhost:8080/",
          "height": 295
        },
        "id": "FCinhcc1RvAL",
        "outputId": "2e067995-2347-4fc3-e054-b31a9ae965a7"
      },
      "execution_count": 93,
      "outputs": [
        {
          "output_type": "display_data",
          "data": {
            "text/plain": [
              "<Figure size 432x288 with 1 Axes>"
            ],
            "image/png": "[encoded data removed]"
          },
          "metadata": {
            "needs_background": "light"
          }
        }
      ]
    },
    {
      "cell_type": "code",
      "source": [
        "print(y.index(223) )"
      ],
      "metadata": {
        "colab": {
          "base_uri": "https://localhost:8080/"
        },
        "id": "1giTdQg_Rh7N",
        "outputId": "29f7c360-6d63-4d6e-e995-4085c8e8087a"
      },
      "execution_count": 56,
      "outputs": [
        {
          "output_type": "stream",
          "name": "stdout",
          "text": [
            "528\n"
          ]
        }
      ]
    },
    {
      "cell_type": "code",
      "source": [
        "import numpy as np\n",
        "import matplotlib.pyplot as plt\n",
        "from sklearn.cluster import AgglomerativeClustering\n",
        "from sklearn.cluster import DBSCAN\n",
        "\n",
        "hierarchical_cluster = AgglomerativeClustering(n_clusters=10, affinity='euclidean', linkage='ward')\n",
        "labels = hierarchical_cluster.fit_predict(data)\n",
        "\n",
        "plt.scatter(x, y, c=labels)\n",
        "plt.show()"
      ],
      "metadata": {
        "colab": {
          "base_uri": "https://localhost:8080/",
          "height": 265
        },
        "id": "9KcCoIbimKuk",
        "outputId": "c3496230-fa6c-4e0a-ee03-5a75e291a9b9"
      },
      "execution_count": 94,
      "outputs": [
        {
          "output_type": "display_data",
          "data": {
            "text/plain": [
              "<Figure size 432x288 with 1 Axes>"
            ],
            "image/png": "[encoded data removed]"
          },
          "metadata": {
            "needs_background": "light"
          }
        }
      ]
    },
    {
      "cell_type": "code",
      "source": [
        "\n",
        " # coding: utf-8\n",
        "\n",
        "from sklearn.datasets import make_moons\n",
        "\n",
        "from sklearn.preprocessing import StandardScaler\n",
        "\n",
        "from sklearn.cluster import DBSCAN\n",
        "\n",
        "import matplotlib.pyplot as plt\n",
        "\n",
        "\n",
        "\n",
        "scaler = StandardScaler()\n",
        "\n",
        "scaler.fit(data)\n",
        "\n",
        "\n",
        "X_scaled = scaler.transform(data)\n",
        "\n",
        "\n",
        "\n",
        "dbscan = DBSCAN(eps=0.625)\n",
        "\n",
        "clusters = dbscan.fit_predict(X_scaled)\n",
        "\n",
        "\n",
        "\n",
        "plt.scatter(X_scaled[:, 0], X_scaled[:, 1], c=clusters, cmap='plasma', s=30, edgecolors='black')\n",
        "\n",
        "plt.grid()\n",
        "plt.xlabel('time')\n",
        "plt.ylabel('Similarity')\n",
        "plt.title(\"Video\")\n",
        "\n",
        "plt.show()"
      ],
      "metadata": {
        "colab": {
          "base_uri": "https://localhost:8080/",
          "height": 295
        },
        "id": "wD73hUC9N-94",
        "outputId": "b0f0159a-f45d-4287-8ae7-1ab7541d910d"
      },
      "execution_count": 176,
      "outputs": [
        {
          "output_type": "display_data",
          "data": {
            "text/plain": [
              "<Figure size 432x288 with 1 Axes>"
            ],
            "image/png": "[encoded data removed]"
          },
          "metadata": {
            "needs_background": "light"
          }
        }
      ]
    },
    {
      "cell_type": "markdown",
      "metadata": {
        "id": "Tu9VGLhdEPGy"
      },
      "source": [
        "# TEST"
      ]
    },
    {
      "cell_type": "code",
      "execution_count": 6,
      "metadata": {
        "id": "46Nx_CYx4F8O"
      },
      "outputs": [],
      "source": [
        "from keras.models import Sequential\n",
        "from keras.layers import Dense\n",
        "from keras import optimizers\n",
        "import tensorflow as tf\n",
        "from sklearn.model_selection import train_test_split\n"
      ]
    },
    {
      "cell_type": "code",
      "execution_count": 7,
      "metadata": {
        "id": "3kPiYiBuh9uz"
      },
      "outputs": [],
      "source": [
        "from keras.models import Model\n",
        "from keras.layers import Input, Conv2D, BatchNormalization, MaxPool2D, Activation, Flatten, Dense, Dropout\n",
        "\n",
        "input_layer = tf.keras.layers.Input(\n",
        "    shape=(1078, 1728, 3), name='input_layer'\n",
        ")\n",
        "\n",
        "conv_layer = tf.keras.layers.Conv2D(\n",
        "    filters=32, kernel_size=(3, 3), activation='relu', name='conv_layer'\n",
        ")(input_layer)\n",
        "\n",
        "pool_layer = tf.keras.layers.MaxPool2D(\n",
        "    pool_size=(3, 3), name='pool_layer'\n",
        ")(conv_layer)\n",
        "\n",
        "output_layer = tf.keras.layers.Dense(\n",
        "    units=2, activation='softmax', name='output_layer'\n",
        ")(pool_layer)\n",
        "\n",
        "model = tf.keras.models.Model(input_layer, output_layer)\n",
        "\n",
        "model.compile(optimizer='rmsprop', loss=['mse','categorical_crossentropy', 'binary_crossentropy'])"
      ]
    },
    {
      "cell_type": "code",
      "execution_count": 8,
      "metadata": {
        "id": "aXmhfmhzKWht"
      },
      "outputs": [],
      "source": [
        "from tensorflow.keras.losses import CategoricalCrossentropy\n",
        "from tensorflow.keras.optimizers import Adam\n",
        "\n",
        "batch_size = 32\n",
        "epoch = 200\n",
        "learning_rate = 1e-3\n",
        "decay = learning_rate / epoch\n",
        "\n",
        "optimizer = Adam(\n",
        "    learning_rate=learning_rate,\n",
        "    decay=decay\n",
        ")\n",
        "\n",
        "loss = CategoricalCrossentropy(from_logits=False)\n",
        "\n",
        "model.compile(\n",
        "    loss=loss,\n",
        "    optimizer=optimizer,\n",
        "\tmetrics=['accuracy']\n",
        ")"
      ]
    },
    {
      "cell_type": "markdown",
      "metadata": {
        "id": "d8zIlkkQjjrY"
      },
      "source": [
        "![노드.png](data:image/png;base64,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)"
      ]
    },
    {
      "cell_type": "markdown",
      "metadata": {
        "id": "F_vYZ3hql4w5"
      },
      "source": [
        "y = w * x + b"
      ]
    },
    {
      "cell_type": "code",
      "execution_count": 11,
      "metadata": {
        "colab": {
          "base_uri": "https://localhost:8080/"
        },
        "id": "ok-XMfc4jCen",
        "outputId": "0bea15df-3f48-43f5-f28c-5ee98524acf1"
      },
      "outputs": [
        {
          "output_type": "stream",
          "name": "stdout",
          "text": [
            "Model: \"sequential\"\n",
            "_________________________________________________________________\n",
            " Layer (type)                Output Shape              Param #   \n",
            "=================================================================\n",
            " conv2d (Conv2D)             (None, 224, 224, 64)      1792      \n",
            "                                                                 \n",
            " conv2d_1 (Conv2D)           (None, 224, 224, 64)      36928     \n",
            "                                                                 \n",
            " max_pooling2d (MaxPooling2D  (None, 112, 112, 64)     0         \n",
            " )                                                               \n",
            "                                                                 \n",
            " conv2d_2 (Conv2D)           (None, 112, 112, 128)     73856     \n",
            "                                                                 \n",
            " conv2d_3 (Conv2D)           (None, 112, 112, 128)     147584    \n",
            "                                                                 \n",
            " max_pooling2d_1 (MaxPooling  (None, 56, 56, 128)      0         \n",
            " 2D)                                                             \n",
            "                                                                 \n",
            " conv2d_4 (Conv2D)           (None, 56, 56, 256)       295168    \n",
            "                                                                 \n",
            " conv2d_5 (Conv2D)           (None, 56, 56, 256)       590080    \n",
            "                                                                 \n",
            " conv2d_6 (Conv2D)           (None, 56, 56, 256)       590080    \n",
            "                                                                 \n",
            " max_pooling2d_2 (MaxPooling  (None, 28, 28, 256)      0         \n",
            " 2D)                                                             \n",
            "                                                                 \n",
            " conv2d_7 (Conv2D)           (None, 28, 28, 512)       1180160   \n",
            "                                                                 \n",
            " conv2d_8 (Conv2D)           (None, 28, 28, 512)       2359808   \n",
            "                                                                 \n",
            " conv2d_9 (Conv2D)           (None, 28, 28, 512)       2359808   \n",
            "                                                                 \n",
            " max_pooling2d_3 (MaxPooling  (None, 14, 14, 512)      0         \n",
            " 2D)                                                             \n",
            "                                                                 \n",
            " conv2d_10 (Conv2D)          (None, 14, 14, 512)       2359808   \n",
            "                                                                 \n",
            " conv2d_11 (Conv2D)          (None, 14, 14, 512)       2359808   \n",
            "                                                                 \n",
            " conv2d_12 (Conv2D)          (None, 14, 14, 512)       2359808   \n",
            "                                                                 \n",
            " max_pooling2d_4 (MaxPooling  (None, 7, 7, 512)        0         \n",
            " 2D)                                                             \n",
            "                                                                 \n",
            "=================================================================\n",
            "Total params: 14,714,688\n",
            "Trainable params: 14,714,688\n",
            "Non-trainable params: 0\n",
            "_________________________________________________________________\n"
          ]
        }
      ],
      "source": [
        "model.summary()"
      ]
    },
    {
      "cell_type": "code",
      "source": [
        "model = Sequential()\n",
        "model.add(Conv2D(input_shape=(224,224,3),filters=64,kernel_size=(3,3),padding=\"same\", activation=\"relu\"))\n",
        "model.add(Conv2D(filters=64,kernel_size=(3,3),padding=\"same\", activation=\"relu\"))\n",
        "model.add(MaxPool2D(pool_size=(2,2),strides=(2,2)))\n",
        "model.add(Conv2D(filters=128, kernel_size=(3,3), padding=\"same\", activation=\"relu\"))\n",
        "model.add(Conv2D(filters=128, kernel_size=(3,3), padding=\"same\", activation=\"relu\"))\n",
        "model.add(MaxPool2D(pool_size=(2,2),strides=(2,2)))\n",
        "model.add(Conv2D(filters=256, kernel_size=(3,3), padding=\"same\", activation=\"relu\"))\n",
        "model.add(Conv2D(filters=256, kernel_size=(3,3), padding=\"same\", activation=\"relu\"))\n",
        "model.add(Conv2D(filters=256, kernel_size=(3,3), padding=\"same\", activation=\"relu\"))\n",
        "model.add(MaxPool2D(pool_size=(2,2),strides=(2,2)))\n",
        "model.add(Conv2D(filters=512, kernel_size=(3,3), padding=\"same\", activation=\"relu\"))\n",
        "model.add(Conv2D(filters=512, kernel_size=(3,3), padding=\"same\", activation=\"relu\"))\n",
        "model.add(Conv2D(filters=512, kernel_size=(3,3), padding=\"same\", activation=\"relu\"))\n",
        "model.add(MaxPool2D(pool_size=(2,2),strides=(2,2)))\n",
        "model.add(Conv2D(filters=512, kernel_size=(3,3), padding=\"same\", activation=\"relu\"))\n",
        "model.add(Conv2D(filters=512, kernel_size=(3,3), padding=\"same\", activation=\"relu\"))\n",
        "model.add(Conv2D(filters=512, kernel_size=(3,3), padding=\"same\", activation=\"relu\"))\n",
        "model.add(MaxPool2D(pool_size=(2,2),strides=(2,2)))"
      ],
      "metadata": {
        "id": "rp5mZNB2ENON"
      },
      "execution_count": 10,
      "outputs": []
    },
    {
      "cell_type": "code",
      "source": [
        "model.add(Flatten())\n",
        "model.add(Dense(units=4096,activation=\"relu\"))\n",
        "model.add(Dense(units=4096,activation=\"relu\"))\n",
        "model.add(Dense(units=2, activation=\"softmax\"))"
      ],
      "metadata": {
        "id": "YlOiDtL6EsWT"
      },
      "execution_count": 13,
      "outputs": []
    },
    {
      "cell_type": "code",
      "source": [
        "import keras,os\n",
        "from keras.models import Sequential\n",
        "from keras.layers import Dense, Conv2D, MaxPool2D , Flatten\n",
        "from keras.preprocessing.image import ImageDataGenerator\n",
        "import numpy as np\n",
        "from keras.optimizers import Adam\n",
        "opt = Adam(lr=0.001)\n",
        "model.compile(optimizer=opt, loss=keras.losses.categorical_crossentropy, metrics=['accuracy'])"
      ],
      "metadata": {
        "id": "4HR4RkcfEyOp"
      },
      "execution_count": 15,
      "outputs": []
    },
    {
      "cell_type": "code",
      "source": [
        "model.summary()"
      ],
      "metadata": {
        "colab": {
          "base_uri": "https://localhost:8080/"
        },
        "id": "uWFHuWR-E8hT",
        "outputId": "88a72fe5-292c-4727-981e-a83340628d46"
      },
      "execution_count": 16,
      "outputs": [
        {
          "output_type": "stream",
          "name": "stdout",
          "text": [
            "Model: \"sequential\"\n",
            "_________________________________________________________________\n",
            " Layer (type)                Output Shape              Param #   \n",
            "=================================================================\n",
            " conv2d (Conv2D)             (None, 224, 224, 64)      1792      \n",
            "                                                                 \n",
            " conv2d_1 (Conv2D)           (None, 224, 224, 64)      36928     \n",
            "                                                                 \n",
            " max_pooling2d (MaxPooling2D  (None, 112, 112, 64)     0         \n",
            " )                                                               \n",
            "                                                                 \n",
            " conv2d_2 (Conv2D)           (None, 112, 112, 128)     73856     \n",
            "                                                                 \n",
            " conv2d_3 (Conv2D)           (None, 112, 112, 128)     147584    \n",
            "                                                                 \n",
            " max_pooling2d_1 (MaxPooling  (None, 56, 56, 128)      0         \n",
            " 2D)                                                             \n",
            "                                                                 \n",
            " conv2d_4 (Conv2D)           (None, 56, 56, 256)       295168    \n",
            "                                                                 \n",
            " conv2d_5 (Conv2D)           (None, 56, 56, 256)       590080    \n",
            "                                                                 \n",
            " conv2d_6 (Conv2D)           (None, 56, 56, 256)       590080    \n",
            "                                                                 \n",
            " max_pooling2d_2 (MaxPooling  (None, 28, 28, 256)      0         \n",
            " 2D)                                                             \n",
            "                                                                 \n",
            " conv2d_7 (Conv2D)           (None, 28, 28, 512)       1180160   \n",
            "                                                                 \n",
            " conv2d_8 (Conv2D)           (None, 28, 28, 512)       2359808   \n",
            "                                                                 \n",
            " conv2d_9 (Conv2D)           (None, 28, 28, 512)       2359808   \n",
            "                                                                 \n",
            " max_pooling2d_3 (MaxPooling  (None, 14, 14, 512)      0         \n",
            " 2D)                                                             \n",
            "                                                                 \n",
            " conv2d_10 (Conv2D)          (None, 14, 14, 512)       2359808   \n",
            "                                                                 \n",
            " conv2d_11 (Conv2D)          (None, 14, 14, 512)       2359808   \n",
            "                                                                 \n",
            " conv2d_12 (Conv2D)          (None, 14, 14, 512)       2359808   \n",
            "                                                                 \n",
            " max_pooling2d_4 (MaxPooling  (None, 7, 7, 512)        0         \n",
            " 2D)                                                             \n",
            "                                                                 \n",
            " flatten (Flatten)           (None, 25088)             0         \n",
            "                                                                 \n",
            " dense (Dense)               (None, 4096)              102764544 \n",
            "                                                                 \n",
            " dense_1 (Dense)             (None, 4096)              16781312  \n",
            "                                                                 \n",
            " dense_2 (Dense)             (None, 2)                 8194      \n",
            "                                                                 \n",
            "=================================================================\n",
            "Total params: 134,268,738\n",
            "Trainable params: 134,268,738\n",
            "Non-trainable params: 0\n",
            "_________________________________________________________________\n"
          ]
        }
      ]
    },
    {
      "cell_type": "code",
      "source": [
        "from keras.callbacks import ModelCheckpoint, EarlyStopping\n",
        "checkpoint = ModelCheckpoint(\"vgg16_1.h5\", monitor='val_acc', verbose=1, save_best_only=True, save_weights_only=False, mode='auto', period=1)\n",
        "early = EarlyStopping(monitor='val_acc', min_delta=0, patience=20, verbose=1, mode='auto')\n",
        "hist = model.fit_generator(steps_per_epoch=100,generator=traindata, validation_data= testdata, validation_steps=10,epochs=100,callbacks=[checkpoint,early])"
      ],
      "metadata": {
        "colab": {
          "base_uri": "https://localhost:8080/",
          "height": 251
        },
        "id": "5JGVmBVnFLtB",
        "outputId": "664d08f4-7990-4bf9-fe11-f0d3afd403a1"
      },
      "execution_count": 17,
      "outputs": [
        {
          "output_type": "stream",
          "name": "stderr",
          "text": [
            "WARNING:tensorflow:`period` argument is deprecated. Please use `save_freq` to specify the frequency in number of batches seen.\n"
          ]
        },
        {
          "output_type": "error",
          "ename": "NameError",
          "evalue": "ignored",
          "traceback": [
            "\u001b[0;31m---------------------------------------------------------------------------\u001b[0m",
            "\u001b[0;31mNameError\u001b[0m                                 Traceback (most recent call last)",
            "\u001b[0;32m<ipython-input-17-0c0afea1e1c9>\u001b[0m in \u001b[0;36m<module>\u001b[0;34m\u001b[0m\n\u001b[1;32m      2\u001b[0m \u001b[0mcheckpoint\u001b[0m \u001b[0;34m=\u001b[0m \u001b[0mModelCheckpoint\u001b[0m\u001b[0;34m(\u001b[0m\u001b[0;34m\"vgg16_1.h5\"\u001b[0m\u001b[0;34m,\u001b[0m \u001b[0mmonitor\u001b[0m\u001b[0;34m=\u001b[0m\u001b[0;34m'val_acc'\u001b[0m\u001b[0;34m,\u001b[0m \u001b[0mverbose\u001b[0m\u001b[0;34m=\u001b[0m\u001b[0;36m1\u001b[0m\u001b[0;34m,\u001b[0m \u001b[0msave_best_only\u001b[0m\u001b[0;34m=\u001b[0m\u001b[0;32mTrue\u001b[0m\u001b[0;34m,\u001b[0m \u001b[0msave_weights_only\u001b[0m\u001b[0;34m=\u001b[0m\u001b[0;32mFalse\u001b[0m\u001b[0;34m,\u001b[0m \u001b[0mmode\u001b[0m\u001b[0;34m=\u001b[0m\u001b[0;34m'auto'\u001b[0m\u001b[0;34m,\u001b[0m \u001b[0mperiod\u001b[0m\u001b[0;34m=\u001b[0m\u001b[0;36m1\u001b[0m\u001b[0;34m)\u001b[0m\u001b[0;34m\u001b[0m\u001b[0;34m\u001b[0m\u001b[0m\n\u001b[1;32m      3\u001b[0m \u001b[0mearly\u001b[0m \u001b[0;34m=\u001b[0m \u001b[0mEarlyStopping\u001b[0m\u001b[0;34m(\u001b[0m\u001b[0mmonitor\u001b[0m\u001b[0;34m=\u001b[0m\u001b[0;34m'val_acc'\u001b[0m\u001b[0;34m,\u001b[0m \u001b[0mmin_delta\u001b[0m\u001b[0;34m=\u001b[0m\u001b[0;36m0\u001b[0m\u001b[0;34m,\u001b[0m \u001b[0mpatience\u001b[0m\u001b[0;34m=\u001b[0m\u001b[0;36m20\u001b[0m\u001b[0;34m,\u001b[0m \u001b[0mverbose\u001b[0m\u001b[0;34m=\u001b[0m\u001b[0;36m1\u001b[0m\u001b[0;34m,\u001b[0m \u001b[0mmode\u001b[0m\u001b[0;34m=\u001b[0m\u001b[0;34m'auto'\u001b[0m\u001b[0;34m)\u001b[0m\u001b[0;34m\u001b[0m\u001b[0;34m\u001b[0m\u001b[0m\n\u001b[0;32m----> 4\u001b[0;31m \u001b[0mhist\u001b[0m \u001b[0;34m=\u001b[0m \u001b[0mmodel\u001b[0m\u001b[0;34m.\u001b[0m\u001b[0mfit_generator\u001b[0m\u001b[0;34m(\u001b[0m\u001b[0msteps_per_epoch\u001b[0m\u001b[0;34m=\u001b[0m\u001b[0;36m100\u001b[0m\u001b[0;34m,\u001b[0m\u001b[0mgenerator\u001b[0m\u001b[0;34m=\u001b[0m\u001b[0mtraindata\u001b[0m\u001b[0;34m,\u001b[0m \u001b[0mvalidation_data\u001b[0m\u001b[0;34m=\u001b[0m \u001b[0mtestdata\u001b[0m\u001b[0;34m,\u001b[0m \u001b[0mvalidation_steps\u001b[0m\u001b[0;34m=\u001b[0m\u001b[0;36m10\u001b[0m\u001b[0;34m,\u001b[0m\u001b[0mepochs\u001b[0m\u001b[0;34m=\u001b[0m\u001b[0;36m100\u001b[0m\u001b[0;34m,\u001b[0m\u001b[0mcallbacks\u001b[0m\u001b[0;34m=\u001b[0m\u001b[0;34m[\u001b[0m\u001b[0mcheckpoint\u001b[0m\u001b[0;34m,\u001b[0m\u001b[0mearly\u001b[0m\u001b[0;34m]\u001b[0m\u001b[0;34m)\u001b[0m\u001b[0;34m\u001b[0m\u001b[0;34m\u001b[0m\u001b[0m\n\u001b[0m",
            "\u001b[0;31mNameError\u001b[0m: name 'traindata' is not defined"
          ]
        }
      ]
    }
  ],
  "metadata": {
    "accelerator": "GPU",
    "colab": {
      "machine_shape": "hm",
      "provenance": [],
      "authorship_tag": "ABX9TyP3TYGnrvr1QP3hm6xNZdTi",
      "include_colab_link": true
    },
    "gpuClass": "standard",
    "kernelspec": {
      "display_name": "Python 3",
      "name": "python3"
    },
    "language_info": {
      "name": "python"
    }
  },
  "nbformat": 4,
  "nbformat_minor": 0
}