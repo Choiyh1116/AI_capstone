{
  "cells": [
    {
      "cell_type": "markdown",
      "metadata": {
        "id": "view-in-github",
        "colab_type": "text"
      },
      "source": [
        "<a href=\"https://colab.research.google.com/github/Choiyh1116/AI_capstone/blob/CHOI/practice/imageIO.ipynb\" target=\"_parent\"><img src=\"https://colab.research.google.com/assets/colab-badge.svg\" alt=\"Open In Colab\"/></a>"
      ]
    },
    {
      "cell_type": "code",
      "source": [
        "pwd"
      ],
      "metadata": {
        "colab": {
          "base_uri": "https://localhost:8080/",
          "height": 35
        },
        "id": "NCNlqZTF0HfX",
        "outputId": "38b9c8c5-4d15-458b-d232-6b3732beb2bd"
      },
      "execution_count": 1,
      "outputs": [
        {
          "output_type": "execute_result",
          "data": {
            "text/plain": [
              "'/content'"
            ],
            "application/vnd.google.colaboratory.intrinsic+json": {
              "type": "string"
            }
          },
          "metadata": {},
          "execution_count": 1
        }
      ]
    },
    {
      "cell_type": "code",
      "execution_count": 10,
      "metadata": {
        "colab": {
          "base_uri": "https://localhost:8080/",
          "height": 898
        },
        "id": "iC9kYzS03c23",
        "outputId": "85e50967-3d38-471c-bb84-c12d2880534a"
      },
      "outputs": [
        {
          "output_type": "stream",
          "name": "stdout",
          "text": [
            "Saved frame number : 3000\n",
            "Saved frame number : 6000\n",
            "Saved frame number : 9000\n",
            "Saved frame number : 12000\n",
            "Saved frame number : 15000\n",
            "Saved frame number : 18000\n",
            "Saved frame number : 21000\n",
            "Saved frame number : 24000\n",
            "Saved frame number : 27000\n",
            "Saved frame number : 30000\n",
            "Saved frame number : 33000\n",
            "Saved frame number : 36000\n",
            "Saved frame number : 39000\n",
            "Saved frame number : 42000\n",
            "Saved frame number : 45000\n",
            "Saved frame number : 48000\n",
            "Saved frame number : 51000\n",
            "Saved frame number : 54000\n",
            "Saved frame number : 57000\n",
            "Saved frame number : 60000\n",
            "Saved frame number : 63000\n",
            "Saved frame number : 66000\n",
            "Saved frame number : 69000\n",
            "Saved frame number : 72000\n",
            "Saved frame number : 75000\n",
            "Saved frame number : 78000\n",
            "Saved frame number : 81000\n",
            "Saved frame number : 84000\n",
            "Saved frame number : 87000\n",
            "Saved frame number : 90000\n",
            "Saved frame number : 93000\n",
            "Saved frame number : 96000\n",
            "Saved frame number : 99000\n",
            "Saved frame number : 102000\n",
            "Saved frame number : 105000\n",
            "Saved frame number : 108000\n"
          ]
        },
        {
          "output_type": "error",
          "ename": "error",
          "evalue": "ignored",
          "traceback": [
            "\u001b[0;31m---------------------------------------------------------------------------\u001b[0m",
            "\u001b[0;31merror\u001b[0m                                     Traceback (most recent call last)",
            "\u001b[0;32m<ipython-input-10-faa38690bbc0>\u001b[0m in \u001b[0;36m<module>\u001b[0;34m\u001b[0m\n\u001b[1;32m     17\u001b[0m   \u001b[0mret\u001b[0m\u001b[0;34m,\u001b[0m \u001b[0mimage\u001b[0m \u001b[0;34m=\u001b[0m \u001b[0mvidcap\u001b[0m\u001b[0;34m.\u001b[0m\u001b[0mread\u001b[0m\u001b[0;34m(\u001b[0m\u001b[0;34m)\u001b[0m\u001b[0;34m\u001b[0m\u001b[0;34m\u001b[0m\u001b[0m\n\u001b[1;32m     18\u001b[0m \u001b[0;34m\u001b[0m\u001b[0m\n\u001b[0;32m---> 19\u001b[0;31m   \u001b[0mimage\u001b[0m \u001b[0;34m=\u001b[0m \u001b[0mcv2\u001b[0m\u001b[0;34m.\u001b[0m\u001b[0mresize\u001b[0m\u001b[0;34m(\u001b[0m\u001b[0mimage\u001b[0m\u001b[0;34m,\u001b[0m \u001b[0;34m(\u001b[0m\u001b[0;36m960\u001b[0m\u001b[0;34m,\u001b[0m \u001b[0;36m540\u001b[0m\u001b[0;34m)\u001b[0m\u001b[0;34m)\u001b[0m\u001b[0;34m\u001b[0m\u001b[0;34m\u001b[0m\u001b[0m\n\u001b[0m\u001b[1;32m     20\u001b[0m \u001b[0;34m\u001b[0m\u001b[0m\n\u001b[1;32m     21\u001b[0m   \u001b[0;32mif\u001b[0m\u001b[0;34m(\u001b[0m\u001b[0mint\u001b[0m \u001b[0;34m(\u001b[0m\u001b[0mvidcap\u001b[0m\u001b[0;34m.\u001b[0m\u001b[0mget\u001b[0m\u001b[0;34m(\u001b[0m\u001b[0;36m1\u001b[0m\u001b[0;34m)\u001b[0m \u001b[0;34m%\u001b[0m \u001b[0;36m3000\u001b[0m \u001b[0;34m==\u001b[0m \u001b[0;36m0\u001b[0m\u001b[0;34m)\u001b[0m\u001b[0;34m)\u001b[0m\u001b[0;34m:\u001b[0m\u001b[0;34m\u001b[0m\u001b[0;34m\u001b[0m\u001b[0m\n",
            "\u001b[0;31merror\u001b[0m: OpenCV(4.6.0) /io/opencv/modules/imgproc/src/resize.cpp:4052: error: (-215:Assertion failed) !ssize.empty() in function 'resize'\n"
          ]
        }
      ],
      "source": [
        "# -*- coding: utf-8 -*-\n",
        "import torch\n",
        "import cv2\n",
        "import os\n",
        "\n",
        "\n",
        "\n",
        "vidcap = cv2.VideoCapture('/content/drive/MyDrive/testVideo/test1.mp4')\n",
        "\n",
        "if not vidcap.isOpened():\n",
        "    print(\"Could not Open\")\n",
        "    exit(0)\n",
        "\n",
        "count = 0\n",
        "\n",
        "while(vidcap.isOpened()): \n",
        "  ret, image = vidcap.read()\n",
        "\n",
        "  image = cv2.resize(image, (960, 540))\n",
        "\n",
        "  if(int (vidcap.get(1) % 3000 == 0)):\n",
        "    print('Saved frame number : ' + str(int(vidcap.get(1))))\n",
        "    cv2.imwrite('/content/drive/MyDrive/testVideo/testFrame/%d image.png'%count, image)\n",
        "    count += 1\n",
        "\n",
        "vidcap.release()"
      ]
    }
  ],
  "metadata": {
    "colab": {
      "provenance": [],
      "collapsed_sections": [],
      "mount_file_id": "145_gvs7qExS8aM0dnuSEp0-KWY8J2SfM",
      "authorship_tag": "ABX9TyMAvSzwflg0RnJD/7EO58Pi",
      "include_colab_link": true
    },
    "kernelspec": {
      "display_name": "Python 3",
      "name": "python3"
    },
    "language_info": {
      "name": "python"
    }
  },
  "nbformat": 4,
  "nbformat_minor": 0
}