{
  "nbformat": 4,
  "nbformat_minor": 0,
  "metadata": {
    "colab": {
      "provenance": [],
      "collapsed_sections": [],
      "mount_file_id": "1dS60EjNSLYFJX-ikurYZCEkrcoWoE5ki",
      "authorship_tag": "ABX9TyPW/OWUrHU2KcUuI+TRKZ01",
      "include_colab_link": true
    },
    "kernelspec": {
      "name": "python3",
      "display_name": "Python 3"
    },
    "language_info": {
      "name": "python"
    },
    "accelerator": "GPU"
  },
  "cells": [
    {
      "cell_type": "markdown",
      "metadata": {
        "id": "view-in-github",
        "colab_type": "text"
      },
      "source": [
        "<a href=\"https://colab.research.google.com/github/Choiyh1116/AI_capstone/blob/CHOI/practice/YoutubeToCsv.ipynb\" target=\"_parent\"><img src=\"https://colab.research.google.com/assets/colab-badge.svg\" alt=\"Open In Colab\"/></a>"
      ]
    },
    {
      "cell_type": "markdown",
      "source": [
        "import Youtube 안돼서 YoutubeVideo사용"
      ],
      "metadata": {
        "id": "9vYIPNeDnp_q"
      }
    },
    {
      "cell_type": "code",
      "source": [
        "from google.colab import drive\n",
        "drive.mount('/content/drive')"
      ],
      "metadata": {
        "id": "--oEYsSKLiqx",
        "outputId": "8e2681f6-82ab-4a1a-f918-8182cc9800d4",
        "colab": {
          "base_uri": "https://localhost:8080/"
        }
      },
      "execution_count": 1,
      "outputs": [
        {
          "output_type": "stream",
          "name": "stdout",
          "text": [
            "Mounted at /content/drive\n"
          ]
        }
      ]
    },
    {
      "cell_type": "code",
      "source": [
        "!pip install pytube"
      ],
      "metadata": {
        "colab": {
          "base_uri": "https://localhost:8080/"
        },
        "id": "_a_qOTB4neoZ",
        "outputId": "0f8657c5-d757-48b7-851c-58f41580a5fd"
      },
      "execution_count": 2,
      "outputs": [
        {
          "output_type": "stream",
          "name": "stdout",
          "text": [
            "Looking in indexes: https://pypi.org/simple, https://us-python.pkg.dev/colab-wheels/public/simple/\n",
            "Collecting pytube\n",
            "  Downloading pytube-12.1.0-py3-none-any.whl (56 kB)\n",
            "\u001b[?25l\r\u001b[K     |█████▉                          | 10 kB 26.3 MB/s eta 0:00:01\r\u001b[K     |███████████▋                    | 20 kB 27.2 MB/s eta 0:00:01\r\u001b[K     |█████████████████▍              | 30 kB 9.7 MB/s eta 0:00:01\r\u001b[K     |███████████████████████▏        | 40 kB 4.3 MB/s eta 0:00:01\r\u001b[K     |█████████████████████████████   | 51 kB 4.9 MB/s eta 0:00:01\r\u001b[K     |████████████████████████████████| 56 kB 2.7 MB/s \n",
            "\u001b[?25hInstalling collected packages: pytube\n",
            "Successfully installed pytube-12.1.0\n"
          ]
        }
      ]
    },
    {
      "cell_type": "code",
      "source": [
        "from IPython.display import YouTubeVideo\n",
        "YouTubeVideo('PLKpAgLNdNRn8k9JhkgjOkQiCr72mIYK3D')"
      ],
      "metadata": {
        "colab": {
          "base_uri": "https://localhost:8080/",
          "height": 320
        },
        "id": "A0cBq974nkSQ",
        "outputId": "fe2e0f34-43c3-4dc7-df4f-d65d8bb88600"
      },
      "execution_count": 3,
      "outputs": [
        {
          "output_type": "execute_result",
          "data": {
            "text/plain": [
              "<IPython.lib.display.YouTubeVideo at 0x7fd2c34a6310>"
            ],
            "text/html": [
              "\n",
              "        <iframe\n",
              "            width=\"400\"\n",
              "            height=\"300\"\n",
              "            src=\"https://www.youtube.com/embed/A4gfsAGtfEI\"\n",
              "            frameborder=\"0\"\n",
              "            allowfullscreen\n",
              "        ></iframe>\n",
              "        "
            ],
            "image/jpeg": "[encoded data removed]"
          },
          "metadata": {},
          "execution_count": 3
        }
      ]
    },
    {
      "cell_type": "code",
      "source": [
        "from google.colab import drive\n",
        "import os, sys\n",
        "from pytube import YouTube\n",
        "drive.mount('/content/drive')\n",
        "os.chdir(\"/content/drive/My Drive/video\")"
      ],
      "metadata": {
        "colab": {
          "base_uri": "https://localhost:8080/"
        },
        "id": "WrLGJVE7n7cM",
        "outputId": "b6cd721e-5091-413b-f5ac-27d9b7253510"
      },
      "execution_count": 4,
      "outputs": [
        {
          "output_type": "stream",
          "name": "stdout",
          "text": [
            "Drive already mounted at /content/drive; to attempt to forcibly remount, call drive.mount(\"/content/drive\", force_remount=True).\n"
          ]
        }
      ]
    },
    {
      "cell_type": "code",
      "execution_count": 5,
      "metadata": {
        "id": "D27RfalqfU1r",
        "colab": {
          "base_uri": "https://localhost:8080/",
          "height": 54
        },
        "outputId": "1191c216-3277-4b8d-f761-d782b6127715"
      },
      "outputs": [
        {
          "output_type": "stream",
          "name": "stdout",
          "text": [
            "선형대수 넷째주 두번째 강의영상 1\n"
          ]
        },
        {
          "output_type": "execute_result",
          "data": {
            "text/plain": [
              "'/content/drive/My Drive/video/선형대수 넷째주 두번째 강의영상 1.mp4'"
            ],
            "application/vnd.google.colaboratory.intrinsic+json": {
              "type": "string"
            }
          },
          "metadata": {},
          "execution_count": 5
        }
      ],
      "source": [
        "youtube = YouTube(\"https://www.youtube.com/watch?v=tx7ps9xWxdw&list=PLKpAgLNdNRn8k9JhkgjOkQiCr72mIYK3D\")\n",
        "\n",
        "print(youtube.title)\n",
        "video = youtube.streams.get_highest_resolution()\n",
        "video.download()"
      ]
    },
    {
      "cell_type": "code",
      "source": [],
      "metadata": {
        "id": "2HgSwXQBR9_w"
      },
      "execution_count": null,
      "outputs": []
    },
    {
      "cell_type": "code",
      "execution_count": null,
      "metadata": {
        "colab": {
          "base_uri": "https://localhost:8080/"
        },
        "id": "TEAsIsq6X1Te",
        "outputId": "4939d249-7a2c-4642-99c2-30b2dd685e7a"
      },
      "outputs": [
        {
          "output_type": "stream",
          "name": "stdout",
          "text": [
            "FPS : 10\t영상길이 : 1392.700000\n",
            "코드 구동 종료\n"
          ]
        }
      ],
      "source": [
        "#%%time #코드 러닝타임 확인용\n",
        "\n",
        "\"\"\"\n",
        "현재 1초(30프레임)마다 넘겨보는 중 > frameGap 조절\n",
        "비디오 경로 확인\n",
        "colab에서도 csv파일 생성 잘 되는것 확인\n",
        "\"\"\"\n",
        "\n",
        "import torch\n",
        "import cv2\n",
        "import os\n",
        "import numpy as np\n",
        "import matplotlib.pylab as plt\n",
        "\n",
        "#비디오 경로설정 필수\n",
        "vidcap = cv2.VideoCapture('/content/drive/My Drive/video/2.mp4')\n",
        "methods = ['CORREL', 'CHISQR', 'INTERSECT', 'BHATTACHARYYA', 'EMD']\n",
        "hists = []\n",
        "\n",
        "#csv파일관련, csv파일 이름, 경로설정 확인\n",
        "cor, chi, ist, bha, emd, sct = list(), list(), list(), list(), list(), list()\n",
        "filecsv = open(\"2.csv\", \"w\")\n",
        "\n",
        "#영상 못불러오면 코드종료\n",
        "if not vidcap.isOpened():\n",
        "    print(\"Could not Open\")\n",
        "    exit(0)\n",
        "\n",
        "count = 0\n",
        "\n",
        "#각각 영상 초당프레임, 총 프레임 수, 계산된 영상 길이(초단위)\n",
        "fps = int(vidcap.get(cv2.CAP_PROP_FPS))\n",
        "totalf = vidcap.get(cv2.CAP_PROP_FRAME_COUNT)\n",
        "totalt = totalf/fps\n",
        "print(\"FPS : %d\\t영상길이 : %f\"%(fps,totalt))\n",
        "\n",
        "#코드돌리는시간이 너무 길다면, 조절한다 -> frameGap\n",
        "frameGap = int(fps/1)\n",
        "gapCount = int(frameGap-1)\n",
        "#코드돌리는시간이 너무 길다면, 조절한다 -> maxFrame\n",
        "maxFrame = int(totalf/1)\n",
        "\n",
        "#그래프관련\n",
        "xchuk = list()\n",
        "howmany = 5  #x축 그래프 분할 확인용, 현재 5분할\n",
        "graphtime = maxFrame/fps\n",
        "itimes = int(graphtime/howmany)\n",
        "\n",
        "#이미지 크기 조절 관련, 러닝타임 단축 기대, %%time으로 확인한 결과 효과없음, 오히려 지연됨\n",
        "\"\"\"width = vidcap.get(cv2.CAP_PROP_FRAME_WIDTH)\n",
        "height = vidcap.get(cv2.CAP_PROP_FRAME_HEIGHT)\n",
        "scale = 4\"\"\"\n",
        "\n",
        "while(vidcap.isOpened()): \n",
        "    if(gapCount==0):\n",
        "        ret, image = vidcap.read()\n",
        "        gapCount = int(frameGap-1)\n",
        "    else:\n",
        "        ret = vidcap.grab()\n",
        "        gapCount -= 1\n",
        "        continue\n",
        "    if ret:\n",
        "        #image = cv2.resize(image, (int(width/scale), int(height/scale)))\n",
        "        \n",
        "        if(int (vidcap.get(1) % frameGap == 0)):\n",
        "            if(int (vidcap.get(1) > maxFrame)):\n",
        "                break\n",
        "            hsv = cv2.cvtColor(image, cv2.COLOR_BGR2HSV)\n",
        "            hist = cv2.calcHist([hsv], [0, 1], None, [180, 256], [0, 180, 0, 256])\n",
        "            cv2.normalize(hist, hist, 0, 1, cv2.NORM_MINMAX)\n",
        "            hists.append(hist)\n",
        "                \n",
        "            if(len(hists)==2):\n",
        "                query = hists[0]\n",
        "                for index, name in enumerate(methods):\n",
        "    \n",
        "                    for i, histogram in enumerate(hists):\n",
        "                        if(i == 0):\n",
        "                            continue\n",
        "                        compare = cv2.compareHist(query, histogram, index) \n",
        "        \n",
        "                        if(index == cv2.HISTCMP_INTERSECT):\n",
        "                            compare = compare/np.sum(query)\n",
        "                        \n",
        "                        if(name == 'CORREL'):\n",
        "                            cor.append(compare)\n",
        "                        if(name == 'CHISQR'):\n",
        "                            chi.append(compare)\n",
        "                            xchuk.append(int(vidcap.get(1))/30)\n",
        "                        if(name == 'INTERSECT'):\n",
        "                            ist.append(compare)\n",
        "                        if(name == 'BHATTACHARYYA'):\n",
        "                            bha.append(compare)\n",
        "                        if(name == 'EMD'):\n",
        "                            emd.append(compare)\n",
        "                            sct.append(0)\n",
        "                            \n",
        "                del(hists[0])\n",
        "            \n",
        "            \n",
        "            count += 1\n",
        "    else:\n",
        "        break\n",
        "        \n",
        "filecsv.write('CORREL,CHISQR,INTERSECT,BHATTACHARYYA,EMD,Screen_Transition\\n')\n",
        "for i in range(len(cor)):\n",
        "    filecsv.write(str(cor[i]) + ',' + str(chi[i]) + ',' + str(ist[i]) + ',' + str(bha[i]) + ',' + str(emd[i]) + ',' + str(sct[i]) + '\\n')\n",
        "    \n",
        "filecsv.close()\n",
        "\n",
        "\"\"\"for i in range(0,howmany):\n",
        "    plt.xlim(i*itimes,(i+1)*itimes)\n",
        "    plt.plot(xchuk, cor)\n",
        "    plt.show()\n",
        "    plt.xlim(i*itimes,(i+1)*itimes)\n",
        "    plt.plot(xchuk, chi)\n",
        "    plt.show()\n",
        "    plt.xlim(i*itimes,(i+1)*itimes)\n",
        "    plt.plot(xchuk, ist)\n",
        "    plt.show()\n",
        "    plt.xlim(i*itimes,(i+1)*itimes)\n",
        "    plt.plot(xchuk, bha)\n",
        "    plt.show()\n",
        "    plt.xlim(i*itimes,(i+1)*itimes)\n",
        "    plt.plot(xchuk, emd)\n",
        "    plt.show()\n",
        "\n",
        "plt.plot(xchuk, cor)\n",
        "plt.show()\n",
        "plt.plot(xchuk, chi)\n",
        "plt.show()\n",
        "plt.plot(xchuk, ist)\n",
        "plt.show()\n",
        "plt.plot(xchuk, bha)\n",
        "plt.show()\n",
        "plt.plot(xchuk, emd)\n",
        "plt.show()\"\"\"\n",
        "\n",
        "del(cor,chi,ist,bha,emd,sct)\n",
        "\n",
        "vidcap.release()\n",
        "\n",
        "print(\"코드 구동 종료\")"
      ]
    },
    {
      "cell_type": "markdown",
      "source": [],
      "metadata": {
        "id": "IIL3p5fvndr7"
      }
    }
  ]
}