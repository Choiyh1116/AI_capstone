{
  "nbformat": 4,
  "nbformat_minor": 0,
  "metadata": {
    "colab": {
      "provenance": [],
      "include_colab_link": true
    },
    "kernelspec": {
      "name": "python3",
      "display_name": "Python 3"
    },
    "language_info": {
      "name": "python"
    },
    "accelerator": "GPU",
    "gpuClass": "premium"
  },
  "cells": [
    {
      "cell_type": "markdown",
      "metadata": {
        "id": "view-in-github",
        "colab_type": "text"
      },
      "source": [
        "<a href=\"https://colab.research.google.com/github/Choiyh1116/AI_capstone/blob/CHOI/code/testConvert.ipynb\" target=\"_parent\"><img src=\"https://colab.research.google.com/assets/colab-badge.svg\" alt=\"Open In Colab\"/></a>"
      ]
    },
    {
      "cell_type": "code",
      "source": [
        "!pip install pytube\n",
        "from IPython.display import YouTubeVideo\n",
        "from google.colab import drive\n",
        "import os, sys\n",
        "from pytube import YouTube\n",
        "drive.mount('/content/drive')\n",
        "path = \"/content/drive/MyDrive/video\"\n",
        "title = \"11\"\n",
        "attitle = title + \".mp4\"\n",
        "os.chdir(path)\n",
        "\n",
        "youtube = YouTube(\"https://www.youtube.com/watch?v=0R7jq1BU4ws&ab_channel=%EA%B8%B0%EA%B0%80%ED%8C%8D%ED%8C%8D%EA%B8%B0%EC%88%A0%EA%B0%80%EC%A0%95%EC%8B%9C%EA%B0%84\")\n",
        "\n",
        "print(youtube.title)\n",
        "video = youtube.streams.get_highest_resolution()\n",
        "vd = video.download()\n",
        "os.rename(vd, attitle)"
      ],
      "metadata": {
        "colab": {
          "base_uri": "https://localhost:8080/"
        },
        "id": "wyoaEnuBuQA4",
        "outputId": "e11359a4-c88f-443c-db9a-ce73afae6177"
      },
      "execution_count": 123,
      "outputs": [
        {
          "output_type": "stream",
          "name": "stdout",
          "text": [
            "Looking in indexes: https://pypi.org/simple, https://us-python.pkg.dev/colab-wheels/public/simple/\n",
            "Requirement already satisfied: pytube in /usr/local/lib/python3.7/dist-packages (12.1.0)\n",
            "Drive already mounted at /content/drive; to attempt to forcibly remount, call drive.mount(\"/content/drive\", force_remount=True).\n",
            "10 - 1 창의 공학 설계의 이해\n"
          ]
        }
      ]
    },
    {
      "cell_type": "code",
      "execution_count": 124,
      "metadata": {
        "id": "laUqThSCklNd",
        "colab": {
          "base_uri": "https://localhost:8080/"
        },
        "outputId": "a15155b9-e246-4fa0-81c7-dd571ceb9ebf"
      },
      "outputs": [
        {
          "output_type": "stream",
          "name": "stdout",
          "text": [
            "/content/drive/MyDrive/video/11.mp4\n",
            "/content/drive/MyDrive/video/11.csv\n"
          ]
        }
      ],
      "source": [
        "import torch\n",
        "import cv2\n",
        "import os\n",
        "import numpy as np\n",
        "import matplotlib.pylab as plt\n",
        "\n",
        "\"\"\"###############test용 공간 ######################## \"\"\"\n",
        "\n",
        "\n",
        "\"\"\"#######################################\"\"\"\n",
        "\n",
        "vidName = path + \"/\" + title + \".mp4\"\n",
        "methods = ['CORREL', 'CHISQR', 'INTERSECT', 'BHATTACHARYYA', 'EMD']\n",
        "hists = []\n",
        "\n",
        "#csv파일관련\n",
        "cor, chi, ist, bha, emd, sct = list(), list(), list(), list(), list(), list()\n",
        "csvName = path + \"/\" + title + \".csv\"\n",
        "filecsv = open(csvName, \"w\")\n",
        "print(vidName)\n",
        "print(csvName)\n",
        "\n",
        "#영상 못불러오면 재시도\n",
        "\"\"\"if not vidcap.isOpened():\n",
        "    print(\"Could not Open..\")\n",
        "    exit(0)\"\"\"\n",
        "\n",
        "vidcap = cv2.VideoCapture(vidName)\n",
        "while(not vidcap.isOpened()):\n",
        "  print(\"Could not Open..\")\n",
        "  time.sleep(1)\n",
        "  vidcap = cv2.VideoCapture(vidName)\n",
        "\n",
        "count = 0\n",
        "\n",
        "\n",
        "\n",
        "#각각 초당프레임, 영상 총 프레임 수, 계산된 영상 길이(초단위)\n",
        "while(True):\n",
        "  fps = int(vidcap.get(cv2.CAP_PROP_FPS))\n",
        "  if(fps!=0):\n",
        "    break\n",
        "  else:\n",
        "    print(\"file is not loading...\")\n",
        "totalf = vidcap.get(cv2.CAP_PROP_FRAME_COUNT)\n",
        "totalt = totalf/fps\n",
        "#print(\"FPS : %d\\t영상길이 : %f\"%(fps,totalt))\n",
        "\n",
        "#코드돌리는시간이 너무 길다면, 조절한다 -> frameGap\n",
        "frameGap = fps*3\n",
        "gapCount = int(frameGap-1)\n",
        "\n",
        "while(vidcap.isOpened()):\n",
        "    if(gapCount==0):\n",
        "        ret, image = vidcap.read()\n",
        "        gapCount = int(frameGap-1)\n",
        "    else:\n",
        "        ret = vidcap.grab()\n",
        "        gapCount -= 1\n",
        "        continue\n",
        "    if ret:\n",
        "        if(int (vidcap.get(1) % frameGap == 0)):\n",
        "            hsv = cv2.cvtColor(image, cv2.COLOR_BGR2HSV)\n",
        "            hist = cv2.calcHist([hsv], [0, 1], None, [180, 256], [0, 180, 0, 256])\n",
        "            cv2.normalize(hist, hist, 0, 1, cv2.NORM_MINMAX)\n",
        "            hists.append(hist)\n",
        "                \n",
        "            if(len(hists)==2):\n",
        "                query = hists[0]\n",
        "                for index, name in enumerate(methods):\n",
        "    \n",
        "                    for i, histogram in enumerate(hists):\n",
        "                        if(i == 0):\n",
        "                            continue\n",
        "                        compare = cv2.compareHist(query, histogram, index) \n",
        "        \n",
        "                        if(index == cv2.HISTCMP_INTERSECT):\n",
        "                            compare = compare/np.sum(query)\n",
        "                        \n",
        "                        if(name == 'CORREL'):\n",
        "                            cor.append(compare)\n",
        "                        if(name == 'CHISQR'):\n",
        "                            chi.append(compare)\n",
        "                        if(name == 'INTERSECT'):\n",
        "                            ist.append(compare)\n",
        "                        if(name == 'BHATTACHARYYA'):\n",
        "                            bha.append(compare)\n",
        "                        if(name == 'EMD'):\n",
        "                            emd.append(compare)\n",
        "                            sct.append(0)\n",
        "                            \n",
        "                del(hists[0])\n",
        "            \n",
        "            \n",
        "            count += 1\n",
        "    else:\n",
        "        break\n",
        "        \n",
        "filecsv.write('CORREL,CHISQR,INTERSECT,BHATTACHARYYA,EMD,Screen_Transition\\n')\n",
        "filecsv.write(str(fps)+','+str(totalf)+','+str(frameGap)+',0,0,0\\n')\n",
        "for i in range(len(cor)):\n",
        "    filecsv.write(str(cor[i]) + ',' + str(chi[i]) + ',' + str(ist[i]) + ',' + str(bha[i]) + ',' + str(emd[i]) + ',' + str(sct[i]) + '\\n')\n",
        "    \n",
        "filecsv.close()\n",
        "\n",
        "del(cor,chi,ist,bha,emd,sct)\n",
        "\n",
        "vidcap.release()"
      ]
    },
    {
      "cell_type": "code",
      "source": [
        "\"\"\"\n",
        "csv -> mean, var, standard Deviation\n",
        "\"\"\"\n",
        "import pandas as pd\n",
        "import matplotlib.pyplot as plt\n",
        "import time\n",
        "import seaborn as sns\n",
        "%matplotlib inline\n",
        "\n",
        "#skiprows = 몇 번째 행까지 스킵할지\n",
        "#usecols =  어떤 열을 읽을지\n",
        "\n",
        "df = pd.read_csv(csvName, skiprows = 0, usecols = (0,1,2,3,4,5))\n",
        "\n",
        "\n",
        "row = len(df)\n",
        "df.shape[0]\n",
        "len(df.index)\n",
        "\n",
        "x = range(0, row)\n",
        "\n",
        "y_cor = df.loc[:,'CORREL']\n",
        "y_chi = df.loc[:,'CHISQR']\n",
        "y_int = df.loc[:,'INTERSECT']\n",
        "y_bha = df.loc[:,'BHATTACHARYYA']\n",
        "y_emd = df.loc[:,'EMD']\n",
        "\n",
        "#plt.plot(x,y_cor,'-',label = 'CORREL')\n",
        "#plt.plot(x,y_chi,'-', label = 'CHISQR')\n",
        "#plt.plot(x,y_int,'-', label = 'INTERSECT')\n",
        "#plt.plot(x,y_bha,'-', label = 'BHATTACHARYYA')\n",
        "#plt.plot(x,y_emd,'-', label = 'EMD')\n",
        "\n",
        "sns.distplot(df['CHISQR'])\n",
        "plt.show()\n"
      ],
      "metadata": {
        "colab": {
          "base_uri": "https://localhost:8080/",
          "height": 336
        },
        "id": "1wFmWjMYC-1K",
        "outputId": "68fbf63c-32df-4a2a-f37f-e420d5bda88e"
      },
      "execution_count": 148,
      "outputs": [
        {
          "output_type": "stream",
          "name": "stderr",
          "text": [
            "/usr/local/lib/python3.7/dist-packages/seaborn/distributions.py:2619: FutureWarning: `distplot` is a deprecated function and will be removed in a future version. Please adapt your code to use either `displot` (a figure-level function with similar flexibility) or `histplot` (an axes-level function for histograms).\n",
            "  warnings.warn(msg, FutureWarning)\n"
          ]
        },
        {
          "output_type": "display_data",
          "data": {
            "text/plain": [
              "<Figure size 432x288 with 1 Axes>"
            ],
            "image/png": "[encoded data removed]"
          },
          "metadata": {
            "needs_background": "light"
          }
        }
      ]
    },
    {
      "cell_type": "code",
      "source": [
        "import pickle\n",
        "import joblib\n",
        "import pandas as pd\n",
        "\n",
        "r1 = ['CORREL','CHISQR','INTERSECT','BHATTACHARYYA','EMD']\n",
        "#r2 = ['Screen_Transition']\n",
        "\n",
        "df = pd.read_csv(csvName)\n",
        "xorigin = df[r1]\n",
        "dl = df.loc[0].to_list()\n",
        "df.drop(0,axis=0,inplace=True)\n",
        "\n",
        "fps, totalf, frameGap = dl[0], dl[1], dl[2]\n",
        "\n",
        "x = df[r1]\n",
        "#y = df['Screen_Transition']\n",
        "\n",
        "model = joblib.load('/content/drive/MyDrive/model/model3.pkl')\n",
        "\n",
        "pred = model.predict(x)\n",
        "\n",
        "predDf = pd.DataFrame(pred)\n",
        "predDf.columns = ['Screen_Transition']\n",
        "\n",
        "predList = predDf.loc[predDf['Screen_Transition']==1].index.tolist()\n",
        "\n",
        "new_row = pd.DataFrame([[str(len(predList))]], columns = predDf.columns)\n",
        "predDf = pd.concat([predDf.iloc[:0], new_row, predDf.iloc[0:]], ignore_index = True)\n",
        "\n",
        "acttime = []\n",
        "for i in range(len(predList)):\n",
        "    sec = (predList[i]+2)*frameGap/fps\n",
        "    minute = int(sec // 60)\n",
        "    sec = sec - (minute*60)\n",
        "    acttime.append(str(minute)+'분 '+str(sec)+'초')\n",
        "\n",
        "print(\"총 장면전환 개수 : \", len(predList))\n",
        "\n",
        "for i in range(len(acttime)):\n",
        "    print('\\t\\t'+acttime[i])\n",
        "\n",
        "x = pd.concat([xorigin,predDf],axis=1)\n",
        "\n",
        "x.to_csv(csvName, index = False, mode='w')"
      ],
      "metadata": {
        "colab": {
          "base_uri": "https://localhost:8080/"
        },
        "id": "4NWnmN0GlQCv",
        "outputId": "1dcafa0f-a77a-4aa0-8802-ad9c6c4e4fa6"
      },
      "execution_count": 127,
      "outputs": [
        {
          "output_type": "stream",
          "name": "stdout",
          "text": [
            "총 장면전환 개수 :  8\n",
            "\t\t13분 36.0초\n",
            "\t\t16분 27.0초\n",
            "\t\t26분 24.0초\n",
            "\t\t29분 24.0초\n",
            "\t\t44분 36.0초\n",
            "\t\t57분 6.0초\n",
            "\t\t57분 48.0초\n",
            "\t\t60분 45.0초\n"
          ]
        }
      ]
    },
    {
      "cell_type": "code",
      "source": [
        "predList"
      ],
      "metadata": {
        "id": "zjcVZDy7JR9c",
        "outputId": "a7638903-4eca-4ddf-d044-c6732caf7a2a",
        "colab": {
          "base_uri": "https://localhost:8080/"
        }
      },
      "execution_count": 128,
      "outputs": [
        {
          "output_type": "execute_result",
          "data": {
            "text/plain": [
              "[270, 327, 526, 586, 890, 1140, 1154, 1213]"
            ]
          },
          "metadata": {},
          "execution_count": 128
        }
      ]
    },
    {
      "cell_type": "markdown",
      "source": [
        "**영상 분할** "
      ],
      "metadata": {
        "id": "ssU8V1s3UnWw"
      }
    },
    {
      "cell_type": "code",
      "source": [
        "import os\n",
        "\n",
        "def runBash(command):\n",
        "\tos.system(command)\n",
        "\n",
        "def crop(start,end,input,output):\n",
        "\tstr = \"ffmpeg -i \" + input + \" -ss  \" + start + \" -to \" + end + \" -c copy \" + output\n",
        "\tprint(str)\n",
        "\trunBash(str)\n",
        "\n",
        "temp_hour= 0 \n",
        "temp_min = 0 \n",
        "temp_sec = 0\n",
        "\n",
        "for i in range(len(predList)):\n",
        "  sec = (predList[i]+2)*frameGap/fps\n",
        "  hour = 0\n",
        "  minute = int(sec // 60)\n",
        "  sec = sec - (minute*60)\n",
        "  if(minute > 60) :\n",
        "    minute-=60\n",
        "    hour+=1\n",
        "  \n",
        "  timeStamp1 = str(temp_hour).zfill(2) + \":\" + str(temp_min).zfill(2)+\":\"+str(int(temp_sec)).zfill(2)\n",
        "  timeStamp2 = str(temp_hour).zfill(2) + \":\"+str(minute).zfill(2)+\":\"+str(int(sec)).zfill(2)\n",
        "  temp_hour= hour\n",
        "  temp_min = minute\n",
        "  temp_sec = sec\n",
        "  crop(timeStamp1,timeStamp2,\"11.mp4\",\"test\"+str(i)+\".mp4\")\n",
        "  \n",
        "\n",
        "\n",
        "#crop(\"00:07:09\",\"00:09:12\",\"11.mp4\",\"test\"+str(i)+\".mp4\")"
      ],
      "metadata": {
        "id": "5g0V9ho2IMHV",
        "outputId": "a0809ce2-97e0-47b1-e403-88dc53f7d149",
        "colab": {
          "base_uri": "https://localhost:8080/"
        }
      },
      "execution_count": 132,
      "outputs": [
        {
          "output_type": "stream",
          "name": "stdout",
          "text": [
            "ffmpeg -i 11.mp4 -ss  00:00:00 -to 00:13:36 -c copy test0.mp4\n",
            "ffmpeg -i 11.mp4 -ss  00:13:36 -to 00:16:27 -c copy test1.mp4\n",
            "ffmpeg -i 11.mp4 -ss  00:16:27 -to 00:26:24 -c copy test2.mp4\n",
            "ffmpeg -i 11.mp4 -ss  00:26:24 -to 00:29:24 -c copy test3.mp4\n",
            "ffmpeg -i 11.mp4 -ss  00:29:24 -to 00:44:36 -c copy test4.mp4\n",
            "ffmpeg -i 11.mp4 -ss  00:44:36 -to 00:57:06 -c copy test5.mp4\n",
            "ffmpeg -i 11.mp4 -ss  00:57:06 -to 00:57:48 -c copy test6.mp4\n",
            "ffmpeg -i 11.mp4 -ss  00:57:48 -to 00:60:45 -c copy test7.mp4\n"
          ]
        }
      ]
    },
    {
      "cell_type": "markdown",
      "source": [
        "**영상 재생 부분 (loop안먹어서 살짝 고쳐야댐)**"
      ],
      "metadata": {
        "id": "4z72zxBVUwj_"
      }
    },
    {
      "cell_type": "code",
      "source": [
        "from IPython.display import HTML\n",
        "from os.path import basename\n",
        "\n",
        "def auth_drive():\n",
        "    from pydrive.auth import GoogleAuth\n",
        "    from pydrive.drive import GoogleDrive\n",
        "    from oauth2client.client import GoogleCredentials as GC\n",
        "    from google.colab import auth\n",
        "    auth.authenticate_user()\n",
        "    gauth = GoogleAuth()\n",
        "    gauth.credentials = GC.get_application_default()\n",
        "    return GoogleDrive(gauth)\n",
        "\n",
        "def get_file(filename):\n",
        "    \n",
        "    drive = auth_drive()\n",
        "    q = f\"title = '{filename}' and 'root' in parents\"\n",
        "    res = drive.ListFile({'q': q}).GetList()\n",
        "    if res:\n",
        "        fid = res[0]['id']\n",
        "        return drive.CreateFile({'id': fid})\n",
        "    else:\n",
        "        return drive.CreateFile({'title': filename})\n",
        "\n",
        "def upload_public(filename):\n",
        "    f = get_file(basename(filename))\n",
        "    f.SetContentFile(filename)\n",
        "    f.Upload()\n",
        "    f.InsertPermission({'type': 'anyone', 'value': 'anyone', 'role': 'reader'})\n",
        "    return 'https://drive.google.com/uc?id=' + f.get('id')  # direct link\n",
        "\n",
        "\n",
        "url = upload_public(\"test\"+str(1)+\".mp4\")\n",
        "HTML(f\"\"\"<video src={url} width=700 controls/>\"\"\")\n",
        "\n",
        "  \n",
        "#\"\"\"기본\"\"\"\n",
        "#HTML(f\"\"\"<video src={url+timeStamp} width=500 controls/>\"\"\")\n",
        "#HTML(f\"\"\"<video src={url+\"#t=01:51,03:24\"} width=700 controls/>\"\"\")\n"
      ],
      "metadata": {
        "id": "47UyShLtFBcD",
        "colab": {
          "base_uri": "https://localhost:8080/",
          "height": 477
        },
        "outputId": "61ba581c-a81e-4fbd-9d01-1ab7d50c7f8e"
      },
      "execution_count": 139,
      "outputs": [
        {
          "output_type": "execute_result",
          "data": {
            "text/plain": [
              "<IPython.core.display.HTML object>"
            ],
            "text/html": [
              "<video src=https://drive.google.com/uc?id=1n_zC2kw2-KvwzF2u2SHxbrpAsgF3ouLG width=700 controls/>"
            ]
          },
          "metadata": {},
          "execution_count": 139
        }
      ]
    }
  ]
}