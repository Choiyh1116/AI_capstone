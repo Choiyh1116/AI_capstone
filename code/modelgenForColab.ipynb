{
  "nbformat": 4,
  "nbformat_minor": 0,
  "metadata": {
    "colab": {
      "provenance": [],
      "authorship_tag": "ABX9TyMr+iA7zL99fyxtCxemcMCP",
      "include_colab_link": true
    },
    "kernelspec": {
      "name": "python3",
      "display_name": "Python 3"
    },
    "language_info": {
      "name": "python"
    }
  },
  "cells": [
    {
      "cell_type": "markdown",
      "metadata": {
        "id": "view-in-github",
        "colab_type": "text"
      },
      "source": [
        "<a href=\"https://colab.research.google.com/github/Choiyh1116/AI_capstone/blob/CHOI/code/modelgenForColab.ipynb\" target=\"_parent\"><img src=\"https://colab.research.google.com/assets/colab-badge.svg\" alt=\"Open In Colab\"/></a>"
      ]
    },
    {
      "cell_type": "code",
      "source": [
        "from google.colab import drive\n",
        "drive.mount('/content/drive')\n",
        "\n",
        "import os\n",
        "os.chdir('/content/drive/MyDrive/csv')"
      ],
      "metadata": {
        "colab": {
          "base_uri": "https://localhost:8080/"
        },
        "id": "ZvuaQyP52-lB",
        "outputId": "fb346a27-ec25-421e-973b-c095d963cb28"
      },
      "execution_count": 263,
      "outputs": [
        {
          "output_type": "stream",
          "name": "stdout",
          "text": [
            "Drive already mounted at /content/drive; to attempt to forcibly remount, call drive.mount(\"/content/drive\", force_remount=True).\n"
          ]
        }
      ]
    },
    {
      "cell_type": "code",
      "execution_count": 264,
      "metadata": {
        "id": "-XalMsxB2yG3"
      },
      "outputs": [],
      "source": [
        "import pandas as pd\n",
        "import numpy as np\n",
        "\n",
        "\"\"\" ratio = 0개수 비율\"\"\"\n",
        "ratio = 0.3\n",
        "\n",
        "dd = []\n",
        "nn = []\n",
        "xx = []\n",
        "yy = []\n",
        "for i in range(0,8):\n",
        "    csvName = str(i)+'.csv'\n",
        "    dd.append(pd.read_csv(csvName))\n",
        "    dd[i].drop(0,axis=0,inplace=True)\n",
        "    nn.append(dd[i].loc[dd[i]['Screen_Transition']==1])\n",
        "ddf = []\n",
        "\n",
        "for i in range(len(dd)):\n",
        "    for k in range(5):\n",
        "        df = dd[i].sample(frac=ratio)\n",
        "        df = pd.concat([df,nn[i]], ignore_index=True)\n",
        "        ddf.append(df)\n",
        "\n",
        "for i in range(len(ddf)):\n",
        "    xx.append(ddf[i][['CORREL','CHISQR','INTERSECT','BHATTACHARYYA','EMD']])\n",
        "    yy.append(ddf[i]['Screen_Transition'])"
      ]
    },
    {
      "cell_type": "code",
      "source": [
        "import sklearn\n",
        "import numpy as np\n",
        "from sklearn.tree import DecisionTreeClassifier\n",
        "model = DecisionTreeClassifier(random_state=0)\n",
        "\n",
        "for i in range(len(xx)):\n",
        "    if(i==1) : print(xx[1])\n",
        "    model.fit(xx[i],yy[i])\n",
        "    print(i, \"fitted\")\n",
        "print(\"Done.\")"
      ],
      "metadata": {
        "colab": {
          "base_uri": "https://localhost:8080/"
        },
        "id": "qCvOAUVF9c9Z",
        "outputId": "3171b9cf-ae37-45e3-96f5-7f4795fe34dc"
      },
      "execution_count": 265,
      "outputs": [
        {
          "output_type": "stream",
          "name": "stdout",
          "text": [
            "0 fitted\n",
            "       CORREL    CHISQR  INTERSECT  BHATTACHARYYA       EMD\n",
            "0    1.000000  0.000000   1.000000       0.000000  0.000000\n",
            "1    0.999750  1.710023   0.937077       0.188616  0.256363\n",
            "2    1.000000  0.000098   0.999978       0.005695  0.000221\n",
            "3    1.000000  0.004632   0.998703       0.027399  0.005412\n",
            "4    1.000000  0.000233   0.999476       0.010940  0.000856\n",
            "..        ...       ...        ...            ...       ...\n",
            "962  0.999881  1.120274   0.927162       0.150478  0.206930\n",
            "963  0.999729  2.132251   0.924205       0.178334  0.263547\n",
            "964  0.999265  0.331893   0.980016       0.146700  0.189920\n",
            "965  0.999351  2.300885   0.939696       0.194600  0.331077\n",
            "966  0.993345  4.290205   0.746945       0.371257  1.080313\n",
            "\n",
            "[967 rows x 5 columns]\n",
            "1 fitted\n",
            "2 fitted\n",
            "3 fitted\n",
            "4 fitted\n",
            "5 fitted\n",
            "6 fitted\n",
            "7 fitted\n",
            "8 fitted\n",
            "9 fitted\n",
            "10 fitted\n",
            "11 fitted\n",
            "12 fitted\n",
            "13 fitted\n",
            "14 fitted\n",
            "15 fitted\n",
            "16 fitted\n",
            "17 fitted\n",
            "18 fitted\n",
            "19 fitted\n",
            "20 fitted\n",
            "21 fitted\n",
            "22 fitted\n",
            "23 fitted\n",
            "24 fitted\n",
            "25 fitted\n",
            "26 fitted\n",
            "27 fitted\n",
            "28 fitted\n",
            "29 fitted\n",
            "30 fitted\n",
            "31 fitted\n",
            "32 fitted\n",
            "33 fitted\n",
            "34 fitted\n",
            "35 fitted\n",
            "36 fitted\n",
            "37 fitted\n",
            "38 fitted\n",
            "39 fitted\n",
            "Done.\n"
          ]
        }
      ]
    },
    {
      "cell_type": "code",
      "source": [
        "\n",
        "import pickle\n",
        "import joblib\n",
        "import os\n",
        "#joblib.dump(model,'/content/drive/MyDrive/model'+\"model\"+ratio+\".pkl\")\n",
        "os.chdir('/content/drive/MyDrive/model')\n",
        "\n",
        "#filename 여기서\n",
        "filename = 'model' + str(ratio) + '.pkl'\n",
        "print(filename)\n",
        "joblib.dump(model, filename)"
      ],
      "metadata": {
        "colab": {
          "base_uri": "https://localhost:8080/"
        },
        "id": "XQ8DWpvp-Bnc",
        "outputId": "95162f46-b4ed-4aff-8a2d-761731688a8d"
      },
      "execution_count": 266,
      "outputs": [
        {
          "output_type": "stream",
          "name": "stdout",
          "text": [
            "model0.3.pkl\n"
          ]
        },
        {
          "output_type": "execute_result",
          "data": {
            "text/plain": [
              "['model0.3.pkl']"
            ]
          },
          "metadata": {},
          "execution_count": 266
        }
      ]
    }
  ]
}