{
 "cells": [
  {
   "cell_type": "code",
   "execution_count": 2,
   "id": "29834037",
   "metadata": {},
   "outputs": [],
   "source": [
    "import pandas as pd"
   ]
  },
  {
   "cell_type": "code",
   "execution_count": 21,
   "id": "fc640587",
   "metadata": {},
   "outputs": [],
   "source": [
    "dd = []\n",
    "nn = []\n",
    "xx = []\n",
    "yy = []\n",
    "for i in range(0,8):\n",
    "    csvName = 'csvs/'+str(i)+'.csv'\n",
    "    dd.append(pd.read_csv(csvName))\n",
    "    dd[i].drop(0,axis=0,inplace=True)\n",
    "    nn.append(dd[i].loc[dd[i]['Screen_Transition']==1])\n",
    "ddf = []\n",
    "for i in range(len(dd)):\n",
    "    for k in range(5):\n",
    "        df = dd[i].sample(frac=0.3)\n",
    "        df = pd.concat([df,nn[i]], ignore_index=True)\n",
    "        ddf.append(df)\n",
    "for i in range(len(ddf)):\n",
    "    xx.append(ddf[i][['CORREL','CHISQR','INTERSECT','BHATTACHARYYA','EMD']])\n",
    "    yy.append(ddf[i]['Screen_Transition'])"
   ]
  },
  {
   "cell_type": "code",
   "execution_count": 22,
   "id": "375dde7d",
   "metadata": {},
   "outputs": [],
   "source": [
    "import sklearn\n",
    "from sklearn.tree import DecisionTreeClassifier"
   ]
  },
  {
   "cell_type": "code",
   "execution_count": 23,
   "id": "b2e46c21",
   "metadata": {},
   "outputs": [],
   "source": [
    "model = DecisionTreeClassifier(random_state=0)"
   ]
  },
  {
   "cell_type": "code",
   "execution_count": 25,
   "id": "d5b5d752",
   "metadata": {},
   "outputs": [
    {
     "name": "stdout",
     "output_type": "stream",
     "text": [
      "0 fitted\n",
      "1 fitted\n",
      "2 fitted\n",
      "3 fitted\n",
      "4 fitted\n",
      "5 fitted\n",
      "6 fitted\n",
      "7 fitted\n",
      "8 fitted\n",
      "9 fitted\n",
      "10 fitted\n",
      "11 fitted\n",
      "12 fitted\n",
      "13 fitted\n",
      "14 fitted\n",
      "15 fitted\n",
      "16 fitted\n",
      "17 fitted\n",
      "18 fitted\n",
      "19 fitted\n",
      "20 fitted\n",
      "21 fitted\n",
      "22 fitted\n",
      "23 fitted\n",
      "24 fitted\n",
      "25 fitted\n",
      "26 fitted\n",
      "27 fitted\n",
      "28 fitted\n",
      "29 fitted\n",
      "30 fitted\n",
      "31 fitted\n",
      "32 fitted\n",
      "33 fitted\n",
      "34 fitted\n",
      "35 fitted\n",
      "36 fitted\n",
      "37 fitted\n",
      "38 fitted\n",
      "39 fitted\n",
      "Done.\n"
     ]
    }
   ],
   "source": [
    "for i in range(len(xx)):\n",
    "    model.fit(xx[i],yy[i])\n",
    "    print(i, \"fitted\")\n",
    "print(\"Done.\")"
   ]
  },
  {
   "cell_type": "code",
   "execution_count": 26,
   "id": "6f0d8f08",
   "metadata": {},
   "outputs": [
    {
     "data": {
      "text/plain": [
       "['model/model3.pkl']"
      ]
     },
     "execution_count": 26,
     "metadata": {},
     "output_type": "execute_result"
    }
   ],
   "source": [
    "import pickle\n",
    "import joblib\n",
    "joblib.dump(model, 'model/model3.pkl')"
   ]
  },
  {
   "cell_type": "code",
   "execution_count": null,
   "id": "8828afe9",
   "metadata": {},
   "outputs": [],
   "source": []
  }
 ],
 "metadata": {
  "kernelspec": {
   "display_name": "Python 3 (ipykernel)",
   "language": "python",
   "name": "python3"
  },
  "language_info": {
   "codemirror_mode": {
    "name": "ipython",
    "version": 3
   },
   "file_extension": ".py",
   "mimetype": "text/x-python",
   "name": "python",
   "nbconvert_exporter": "python",
   "pygments_lexer": "ipython3",
   "version": "3.9.12"
  }
 },
 "nbformat": 4,
 "nbformat_minor": 5
}
