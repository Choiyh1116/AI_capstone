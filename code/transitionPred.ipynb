{
 "cells": [
  {
   "cell_type": "code",
   "execution_count": 47,
   "id": "29834037",
   "metadata": {},
   "outputs": [
    {
     "data": {
      "text/html": [
       "<div>\n",
       "<style scoped>\n",
       "    .dataframe tbody tr th:only-of-type {\n",
       "        vertical-align: middle;\n",
       "    }\n",
       "\n",
       "    .dataframe tbody tr th {\n",
       "        vertical-align: top;\n",
       "    }\n",
       "\n",
       "    .dataframe thead th {\n",
       "        text-align: right;\n",
       "    }\n",
       "</style>\n",
       "<table border=\"1\" class=\"dataframe\">\n",
       "  <thead>\n",
       "    <tr style=\"text-align: right;\">\n",
       "      <th></th>\n",
       "      <th>CORREL</th>\n",
       "      <th>CHISQR</th>\n",
       "      <th>INTERSECT</th>\n",
       "      <th>BHATTACHARYYA</th>\n",
       "      <th>EMD</th>\n",
       "      <th>Screen_Transition</th>\n",
       "    </tr>\n",
       "  </thead>\n",
       "  <tbody>\n",
       "    <tr>\n",
       "      <th>0</th>\n",
       "      <td>0.816530</td>\n",
       "      <td>61.778096</td>\n",
       "      <td>0.690302</td>\n",
       "      <td>0.302686</td>\n",
       "      <td>23.100193</td>\n",
       "      <td>0</td>\n",
       "    </tr>\n",
       "    <tr>\n",
       "      <th>1</th>\n",
       "      <td>0.926816</td>\n",
       "      <td>44.729340</td>\n",
       "      <td>0.763327</td>\n",
       "      <td>0.250742</td>\n",
       "      <td>15.730139</td>\n",
       "      <td>0</td>\n",
       "    </tr>\n",
       "    <tr>\n",
       "      <th>2</th>\n",
       "      <td>0.950915</td>\n",
       "      <td>18.524202</td>\n",
       "      <td>0.851856</td>\n",
       "      <td>0.180276</td>\n",
       "      <td>8.990320</td>\n",
       "      <td>0</td>\n",
       "    </tr>\n",
       "    <tr>\n",
       "      <th>3</th>\n",
       "      <td>0.968113</td>\n",
       "      <td>8.202692</td>\n",
       "      <td>0.850708</td>\n",
       "      <td>0.155560</td>\n",
       "      <td>6.707363</td>\n",
       "      <td>0</td>\n",
       "    </tr>\n",
       "    <tr>\n",
       "      <th>4</th>\n",
       "      <td>0.898089</td>\n",
       "      <td>30.017232</td>\n",
       "      <td>0.736819</td>\n",
       "      <td>0.228800</td>\n",
       "      <td>13.960211</td>\n",
       "      <td>0</td>\n",
       "    </tr>\n",
       "  </tbody>\n",
       "</table>\n",
       "</div>"
      ],
      "text/plain": [
       "     CORREL     CHISQR  INTERSECT  BHATTACHARYYA        EMD  Screen_Transition\n",
       "0  0.816530  61.778096   0.690302       0.302686  23.100193                  0\n",
       "1  0.926816  44.729340   0.763327       0.250742  15.730139                  0\n",
       "2  0.950915  18.524202   0.851856       0.180276   8.990320                  0\n",
       "3  0.968113   8.202692   0.850708       0.155560   6.707363                  0\n",
       "4  0.898089  30.017232   0.736819       0.228800  13.960211                  0"
      ]
     },
     "execution_count": 47,
     "metadata": {},
     "output_type": "execute_result"
    }
   ],
   "source": [
    "import pandas as pd\n",
    "\n",
    "dd = pd.read_csv('sampledogs.csv')\n",
    "dd.head()"
   ]
  },
  {
   "cell_type": "code",
   "execution_count": 48,
   "id": "655e94b5",
   "metadata": {},
   "outputs": [],
   "source": [
    "#데이터프레임 자료형이 아닌 리스트로 필요해서 후첨함\n",
    "r1 = ['CORREL','CHISQR','INTERSECT','BHATTACHARYYA','EMD']\n",
    "r2 = ['Screen_Transition']"
   ]
  },
  {
   "cell_type": "code",
   "execution_count": 49,
   "id": "375dde7d",
   "metadata": {},
   "outputs": [],
   "source": [
    "import sklearn\n",
    "from sklearn.tree import DecisionTreeClassifier\n",
    "from sklearn.model_selection import train_test_split"
   ]
  },
  {
   "cell_type": "code",
   "execution_count": 50,
   "id": "bdde95b1",
   "metadata": {},
   "outputs": [],
   "source": [
    "x = dd[['CORREL','CHISQR','INTERSECT','BHATTACHARYYA','EMD']]\n",
    "y = dd['Screen_Transition']"
   ]
  },
  {
   "cell_type": "code",
   "execution_count": 51,
   "id": "edffb714",
   "metadata": {},
   "outputs": [
    {
     "name": "stdout",
     "output_type": "stream",
     "text": [
      "CPU times: total: 0 ns\n",
      "Wall time: 2.07 ms\n"
     ]
    }
   ],
   "source": [
    "x_train, x_test, y_train, y_test = train_test_split(x, y, test_size=0.3, random_state=1)"
   ]
  },
  {
   "cell_type": "code",
   "execution_count": 52,
   "id": "b2e46c21",
   "metadata": {},
   "outputs": [
    {
     "name": "stdout",
     "output_type": "stream",
     "text": [
      "CPU times: total: 0 ns\n",
      "Wall time: 4.67 ms\n"
     ]
    },
    {
     "data": {
      "text/plain": [
       "DecisionTreeClassifier(random_state=0)"
      ]
     },
     "execution_count": 52,
     "metadata": {},
     "output_type": "execute_result"
    }
   ],
   "source": [
    "model = DecisionTreeClassifier(random_state=0)\n",
    "model.fit(x_train,y_train)"
   ]
  },
  {
   "cell_type": "code",
   "execution_count": 53,
   "id": "cc0655c7",
   "metadata": {},
   "outputs": [
    {
     "name": "stdout",
     "output_type": "stream",
     "text": [
      "예측 정확도: 0.9500\n",
      "CPU times: total: 0 ns\n",
      "Wall time: 4.75 ms\n"
     ]
    }
   ],
   "source": [
    "pred = model.predict(x_test) \n",
    "\n",
    "from sklearn.metrics import accuracy_score\n",
    "print('예측 정확도: {0:.4f}'.format(accuracy_score(y_test,pred)))"
   ]
  },
  {
   "cell_type": "code",
   "execution_count": 54,
   "id": "f8cc8da4",
   "metadata": {},
   "outputs": [
    {
     "name": "stdout",
     "output_type": "stream",
     "text": [
      "CORREL : 0.029\n",
      "CHISQR : 0.000\n",
      "INTERSECT : 0.020\n",
      "BHATTACHARYYA : 0.951\n",
      "EMD : 0.000\n"
     ]
    },
    {
     "data": {
      "text/plain": [
       "<AxesSubplot:>"
      ]
     },
     "execution_count": 54,
     "metadata": {},
     "output_type": "execute_result"
    },
    {
     "data": {
      "image/png": "[encoded data removed]",
      "text/plain": [
       "<Figure size 432x288 with 1 Axes>"
      ]
     },
     "metadata": {
      "needs_background": "light"
     },
     "output_type": "display_data"
    }
   ],
   "source": [
    "import seaborn as sns\n",
    "import numpy as np\n",
    "%matplotlib inline\n",
    "\n",
    "# feature별 importance 매핑\n",
    "for name, value in zip(r1 , model.feature_importances_):\n",
    "    print('{} : {:.3f}'.format(name, value))\n",
    "\n",
    "# feature importance를 column 별로 시각화 하기 \n",
    "sns.barplot(x=model.feature_importances_ , y=r1)"
   ]
  },
  {
   "cell_type": "code",
   "execution_count": null,
   "id": "65f0f95c",
   "metadata": {},
   "outputs": [],
   "source": []
  }
 ],
 "metadata": {
  "kernelspec": {
   "display_name": "Python 3 (ipykernel)",
   "language": "python",
   "name": "python3"
  },
  "language_info": {
   "codemirror_mode": {
    "name": "ipython",
    "version": 3
   },
   "file_extension": ".py",
   "mimetype": "text/x-python",
   "name": "python",
   "nbconvert_exporter": "python",
   "pygments_lexer": "ipython3",
   "version": "3.9.12"
  }
 },
 "nbformat": 4,
 "nbformat_minor": 5
}
