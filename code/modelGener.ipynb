{
 "cells": [
  {
   "cell_type": "code",
   "execution_count": 2,
   "id": "29834037",
   "metadata": {},
   "outputs": [],
   "source": [
    "import pandas as pd"
   ]
  },
  {
   "cell_type": "code",
   "execution_count": 5,
   "id": "9c891db5",
   "metadata": {},
   "outputs": [],
   "source": [
    "dd = []\n",
    "xx = []\n",
    "yy = []\n",
    "for i in range(0,8):\n",
    "    csvName = 'csvs/'+str(i)+'.csv'\n",
    "    dd.append(pd.read_csv(csvName))\n",
    "    dd[i].drop(0,axis=0,inplace=True)\n",
    "    xx.append(dd[i][['CORREL','CHISQR','INTERSECT','BHATTACHARYYA','EMD']])\n",
    "    yy.append(dd[i]['Screen_Transition'])"
   ]
  },
  {
   "cell_type": "code",
   "execution_count": 6,
   "id": "375dde7d",
   "metadata": {},
   "outputs": [],
   "source": [
    "import sklearn\n",
    "from sklearn.tree import DecisionTreeClassifier"
   ]
  },
  {
   "cell_type": "code",
   "execution_count": 7,
   "id": "b2e46c21",
   "metadata": {},
   "outputs": [],
   "source": [
    "model = DecisionTreeClassifier(random_state=0)"
   ]
  },
  {
   "cell_type": "code",
   "execution_count": 8,
   "id": "d5b5d752",
   "metadata": {},
   "outputs": [],
   "source": [
    "for i in range(8):\n",
    "    model.fit(xx[i],yy[i])"
   ]
  },
  {
   "cell_type": "code",
   "execution_count": 9,
   "id": "6f0d8f08",
   "metadata": {},
   "outputs": [
    {
     "data": {
      "text/plain": [
       "['model/model2.pkl']"
      ]
     },
     "execution_count": 9,
     "metadata": {},
     "output_type": "execute_result"
    }
   ],
   "source": [
    "import pickle\n",
    "import joblib\n",
    "joblib.dump(model, 'model/model2.pkl')"
   ]
  },
  {
   "cell_type": "code",
   "execution_count": null,
   "id": "8828afe9",
   "metadata": {},
   "outputs": [],
   "source": []
  }
 ],
 "metadata": {
  "kernelspec": {
   "display_name": "Python 3 (ipykernel)",
   "language": "python",
   "name": "python3"
  },
  "language_info": {
   "codemirror_mode": {
    "name": "ipython",
    "version": 3
   },
   "file_extension": ".py",
   "mimetype": "text/x-python",
   "name": "python",
   "nbconvert_exporter": "python",
   "pygments_lexer": "ipython3",
   "version": "3.9.12"
  }
 },
 "nbformat": 4,
 "nbformat_minor": 5
}
