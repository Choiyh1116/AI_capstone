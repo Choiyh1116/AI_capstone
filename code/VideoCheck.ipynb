{
  "nbformat": 4,
  "nbformat_minor": 0,
  "metadata": {
    "colab": {
      "provenance": [],
      "include_colab_link": true
    },
    "kernelspec": {
      "name": "python3",
      "display_name": "Python 3"
    },
    "language_info": {
      "name": "python"
    },
    "accelerator": "GPU",
    "gpuClass": "premium"
  },
  "cells": [
    {
      "cell_type": "markdown",
      "metadata": {
        "id": "view-in-github",
        "colab_type": "text"
      },
      "source": [
        "<a href=\"https://colab.research.google.com/github/Choiyh1116/AI_capstone/blob/CHOI/code/VideoCheck.ipynb\" target=\"_parent\"><img src=\"https://colab.research.google.com/assets/colab-badge.svg\" alt=\"Open In Colab\"/></a>"
      ]
    },
    {
      "cell_type": "code",
      "source": [
        "!pip install pytube\n",
        "from IPython.display import YouTubeVideo\n",
        "from google.colab import drive\n",
        "import os, sys\n",
        "from pytube import YouTube\n",
        "drive.mount('/content/drive')\n",
        "path = \"/content/drive/My Drive/video\"\n",
        "title = \"11\"\n",
        "attitle = title + \".mp4\"\n",
        "os.chdir(path)\n",
        "\n",
        "youtube = YouTube(\"https://www.youtube.com/watch?v=0R7jq1BU4ws&ab_channel=%EA%B8%B0%EA%B0%80%ED%8C%8D%ED%8C%8D%EA%B8%B0%EC%88%A0%EA%B0%80%EC%A0%95%EC%8B%9C%EA%B0%84\")\n",
        "\n",
        "print(youtube.title)\n",
        "video = youtube.streams.get_highest_resolution()\n",
        "vd = video.download()\n",
        "os.rename(vd, attitle)"
      ],
      "metadata": {
        "colab": {
          "base_uri": "https://localhost:8080/"
        },
        "id": "wyoaEnuBuQA4",
        "outputId": "c0165ac2-4ba3-4c68-b0b7-23d433583291"
      },
      "execution_count": 59,
      "outputs": [
        {
          "output_type": "stream",
          "name": "stdout",
          "text": [
            "Looking in indexes: https://pypi.org/simple, https://us-python.pkg.dev/colab-wheels/public/simple/\n",
            "Requirement already satisfied: pytube in /usr/local/lib/python3.7/dist-packages (12.1.0)\n",
            "Drive already mounted at /content/drive; to attempt to forcibly remount, call drive.mount(\"/content/drive\", force_remount=True).\n",
            "10 - 1 창의 공학 설계의 이해\n"
          ]
        }
      ]
    },
    {
      "cell_type": "code",
      "execution_count": 60,
      "metadata": {
        "id": "laUqThSCklNd",
        "colab": {
          "base_uri": "https://localhost:8080/"
        },
        "outputId": "9c3ac8fd-55de-46b7-d68c-1df287ee1a42"
      },
      "outputs": [
        {
          "output_type": "stream",
          "name": "stdout",
          "text": [
            "/content/drive/My Drive/video/11.mp4\n",
            "/content/drive/My Drive/video/11.csv\n"
          ]
        }
      ],
      "source": [
        "import torch\n",
        "import cv2\n",
        "import os\n",
        "import numpy as np\n",
        "import matplotlib.pylab as plt\n",
        "import time\n",
        "\n",
        "vidName = path + \"/\" + title + \".mp4\"\n",
        "methods = ['CORREL', 'CHISQR', 'INTERSECT', 'BHATTACHARYYA', 'EMD']\n",
        "hists = []\n",
        "\n",
        "print(vidName)\n",
        "\n",
        "#csv파일관련\n",
        "cor, chi, ist, bha, emd, sct = list(), list(), list(), list(), list(), list()\n",
        "csvName = path + \"/\" + title + \".csv\"\n",
        "filecsv = open(csvName, \"w\")\n",
        "\n",
        "print(csvName)\n",
        "\n",
        "#영상 못불러오면 재시도\n",
        "\"\"\"if not vidcap.isOpened():\n",
        "    print(\"Could not Open..\")\n",
        "    exit(0)\"\"\"\n",
        "\n",
        "vidcap = cv2.VideoCapture(vidName)\n",
        "while(not vidcap.isOpened()):\n",
        "  print(\"Could not Open..\")\n",
        "  time.sleep(1)\n",
        "  vidcap = cv2.VideoCapture(vidName)\n",
        "\n",
        "count = 0\n",
        "\n",
        "\n",
        "\n",
        "#각각 초당프레임, 영상 총 프레임 수, 계산된 영상 길이(초단위)\n",
        "while(True):\n",
        "  fps = int(vidcap.get(cv2.CAP_PROP_FPS))\n",
        "  if(fps!=0):\n",
        "    break\n",
        "  else:\n",
        "    print(\"file is not loading...\")\n",
        "totalf = vidcap.get(cv2.CAP_PROP_FRAME_COUNT)\n",
        "totalt = totalf/fps\n",
        "#print(\"FPS : %d\\t영상길이 : %f\"%(fps,totalt))\n",
        "\n",
        "#코드돌리는시간이 너무 길다면, 조절한다 -> frameGap\n",
        "frameGap = fps*3\n",
        "gapCount = int(frameGap-1)\n",
        "\n",
        "while(vidcap.isOpened()):\n",
        "    if(gapCount==0):\n",
        "        ret, image = vidcap.read()\n",
        "        gapCount = int(frameGap-1)\n",
        "    else:\n",
        "        ret = vidcap.grab()\n",
        "        gapCount -= 1\n",
        "        continue\n",
        "    if ret:\n",
        "        if(int (vidcap.get(1) % frameGap == 0)):\n",
        "            hsv = cv2.cvtColor(image, cv2.COLOR_BGR2HSV)\n",
        "            hist = cv2.calcHist([hsv], [0, 1], None, [180, 256], [0, 180, 0, 256])\n",
        "            cv2.normalize(hist, hist, 0, 1, cv2.NORM_MINMAX)\n",
        "            hists.append(hist)\n",
        "                \n",
        "            if(len(hists)==2):\n",
        "                query = hists[0]\n",
        "                for index, name in enumerate(methods):\n",
        "    \n",
        "                    for i, histogram in enumerate(hists):\n",
        "                        if(i == 0):\n",
        "                            continue\n",
        "                        compare = cv2.compareHist(query, histogram, index) \n",
        "        \n",
        "                        if(index == cv2.HISTCMP_INTERSECT):\n",
        "                            compare = compare/np.sum(query)\n",
        "                        \n",
        "                        if(name == 'CORREL'):\n",
        "                            cor.append(compare)\n",
        "                        if(name == 'CHISQR'):\n",
        "                            chi.append(compare)\n",
        "                        if(name == 'INTERSECT'):\n",
        "                            ist.append(compare)\n",
        "                        if(name == 'BHATTACHARYYA'):\n",
        "                            bha.append(compare)\n",
        "                        if(name == 'EMD'):\n",
        "                            emd.append(compare)\n",
        "                            sct.append(0)\n",
        "                            \n",
        "                del(hists[0])\n",
        "            \n",
        "            \n",
        "            count += 1\n",
        "    else:\n",
        "        break\n",
        "        \n",
        "filecsv.write('CORREL,CHISQR,INTERSECT,BHATTACHARYYA,EMD,Screen_Transition\\n')\n",
        "filecsv.write(str(fps)+','+str(totalf)+','+str(frameGap)+',0,0,0\\n')\n",
        "for i in range(len(cor)):\n",
        "    filecsv.write(str(cor[i]) + ',' + str(chi[i]) + ',' + str(ist[i]) + ',' + str(bha[i]) + ',' + str(emd[i]) + ',' + str(sct[i]) + '\\n')\n",
        "    \n",
        "filecsv.close()\n",
        "\n",
        "del(cor,chi,ist,bha,emd,sct)\n",
        "\n",
        "vidcap.release()"
      ]
    },
    {
      "cell_type": "code",
      "source": [
        "\"\"\"\n",
        "csv -> mean, var, standard Deviation\n",
        "\"\"\"\n",
        "import pandas as pd\n",
        "import matplotlib.pyplot as plt\n",
        "import time\n",
        "import seaborn as sns\n",
        "%matplotlib inline\n",
        "\n",
        "#skiprows = 몇 번째 행까지 스킵할지\n",
        "#usecols =  어떤 열을 읽을지\n",
        "\n",
        "df = pd.read_csv(csvName, skiprows = 0, usecols = (0,1,2,3,4,5))\n",
        "\n",
        "\n",
        "row = len(df)\n",
        "df.shape[0]\n",
        "len(df.index)\n",
        "\n",
        "x = range(0, row)\n",
        "\n",
        "y_cor = df.loc[:,'CORREL']\n",
        "y_chi = df.loc[:,'CHISQR']\n",
        "y_int = df.loc[:,'INTERSECT']\n",
        "y_bha = df.loc[:,'BHATTACHARYYA']\n",
        "y_emd = df.loc[:,'EMD']\n",
        "\n",
        "#plt.plot(x,y_cor,'-',label = 'CORREL')\n",
        "#plt.plot(x,y_chi,'-', label = 'CHISQR')\n",
        "#plt.plot(x,y_int,'-', label = 'INTERSECT')\n",
        "#plt.plot(x,y_bha,'-', label = 'BHATTACHARYYA')\n",
        "plt.plot(x,y_emd,'-', label = 'EMD')\n",
        "\n"
      ],
      "metadata": {
        "colab": {
          "base_uri": "https://localhost:8080/",
          "height": 283
        },
        "id": "1wFmWjMYC-1K",
        "outputId": "0fb3b9e4-98be-4760-f6c8-749aed7d1680"
      },
      "execution_count": 61,
      "outputs": [
        {
          "output_type": "execute_result",
          "data": {
            "text/plain": [
              "[<matplotlib.lines.Line2D at 0x7f9f221803d0>]"
            ]
          },
          "metadata": {},
          "execution_count": 61
        },
        {
          "output_type": "display_data",
          "data": {
            "text/plain": [
              "<Figure size 432x288 with 1 Axes>"
            ],
            "image/png": "[encoded data removed]"
          },
          "metadata": {
            "needs_background": "light"
          }
        }
      ]
    },
    {
      "cell_type": "code",
      "source": [
        "import pickle\n",
        "import joblib\n",
        "import pandas as pd\n",
        "\n",
        "r1 = ['CORREL','CHISQR','INTERSECT','BHATTACHARYYA','EMD']\n",
        "#r2 = ['Screen_Transition']\n",
        "\n",
        "df = pd.read_csv(csvName)\n",
        "xorigin = df[r1]\n",
        "dl = df.loc[0].to_list()\n",
        "df.drop(0,axis=0,inplace=True)\n",
        "\n",
        "fps, totalf, frameGap = dl[0], dl[1], dl[2]\n",
        "\n",
        "x = df[r1]\n",
        "#y = df['Screen_Transition']\n",
        "\n",
        "model = joblib.load('/content/drive/MyDrive/model/model3.pkl')\n",
        "\n",
        "pred = model.predict(x)\n",
        "\n",
        "predDf = pd.DataFrame(pred)\n",
        "predDf.columns = ['Screen_Transition']\n",
        "\n",
        "predList = predDf.loc[predDf['Screen_Transition']==1].index.tolist()\n",
        "\n",
        "new_row = pd.DataFrame([[str(len(predList))]], columns = predDf.columns)\n",
        "predDf = pd.concat([predDf.iloc[:0], new_row, predDf.iloc[0:]], ignore_index = True)\n",
        "\n",
        "acttime = []\n",
        "for i in range(len(predList)):\n",
        "    sec = (predList[i]+2)*frameGap/fps\n",
        "    minute = int(sec // 60)\n",
        "    sec = sec - (minute*60)\n",
        "    acttime.append(str(minute)+'분 '+str(sec)+'초')\n",
        "\n",
        "print(\"총 장면전환 개수 : \", len(predList))\n",
        "\n",
        "for i in range(len(acttime)):\n",
        "    print('\\t\\t'+acttime[i])\n",
        "\n",
        "x = pd.concat([xorigin,predDf],axis=1)\n",
        "\n",
        "x.to_csv(csvName, index = False, mode='w')"
      ],
      "metadata": {
        "colab": {
          "base_uri": "https://localhost:8080/"
        },
        "id": "4NWnmN0GlQCv",
        "outputId": "94b68b8c-67db-4720-c3c1-c0b2e753458c"
      },
      "execution_count": 62,
      "outputs": [
        {
          "output_type": "stream",
          "name": "stdout",
          "text": [
            "총 장면전환 개수 :  10\n",
            "\t\t0분 21.0초\n",
            "\t\t1분 51.0초\n",
            "\t\t3분 24.0초\n",
            "\t\t4분 21.0초\n",
            "\t\t5분 57.0초\n",
            "\t\t8분 45.0초\n",
            "\t\t9분 30.0초\n",
            "\t\t11분 51.0초\n",
            "\t\t14분 0.0초\n",
            "\t\t14분 57.0초\n"
          ]
        }
      ]
    },
    {
      "cell_type": "code",
      "source": [
        "predList"
      ],
      "metadata": {
        "id": "zjcVZDy7JR9c",
        "outputId": "09aef61e-0864-4d76-d415-c78db1d087ba",
        "colab": {
          "base_uri": "https://localhost:8080/"
        }
      },
      "execution_count": 63,
      "outputs": [
        {
          "output_type": "execute_result",
          "data": {
            "text/plain": [
              "[5, 35, 66, 85, 117, 173, 188, 235, 278, 297]"
            ]
          },
          "metadata": {},
          "execution_count": 63
        }
      ]
    },
    {
      "cell_type": "code",
      "source": [
        "import cv2\n",
        "from google.colab.patches import cv2_imshow\n",
        "\n",
        "vidcap = cv2.VideoCapture(vidName)\n",
        "\n",
        "for i in range(len(predList)):\n",
        "  fCount = int((predList[i]+2)*frameGap)\n",
        "  print(frameGap,fps,fCount)\n",
        "  if(i>0):\n",
        "    fCount -= int((predList[i-1]+2)*frameGap)\n",
        "  \n",
        "  while(fCount != 0):\n",
        "    fCount -= 1\n",
        "    if(fCount==frameGap):\n",
        "      ret, oimage = vidcap.read()\n",
        "    else:\n",
        "      ret = vidcap.grab()\n",
        "\n",
        "  ret, image = vidcap.read()\n",
        "  if(not ret):\n",
        "    continue\n",
        "  sec = (predList[i]+2)*frameGap/fps\n",
        "  minute = int(sec // 60)\n",
        "  sec = sec - (minute*60)\n",
        "  print(str(minute)+'분 '+str(sec)+'초')\n",
        "  print(predList[i])\n",
        "  #cv2.imshow('color', image)\n",
        "  oimage = cv2.resize(oimage, (480, 360))\n",
        "  image = cv2.resize(image, (480, 360))\n",
        "  cv2_imshow(oimage)\n",
        "  print(\"\\n\")\n",
        "  cv2_imshow(image)\n",
        "  print(\"\\n\")\n",
        "  #cv2.waitKey(0) \n",
        "  #cv2.destroyAllWindows()\n",
        "\n",
        "\n",
        "vidcap.release()"
      ],
      "metadata": {
        "id": "Gh98HsDolYl4"
      },
      "execution_count": null,
      "outputs": []
    },
    {
      "cell_type": "markdown",
      "source": [
        "**영상 분할** "
      ],
      "metadata": {
        "id": "ssU8V1s3UnWw"
      }
    },
    {
      "cell_type": "code",
      "source": [
        "import os\n",
        "\n",
        "def runBash(command):\n",
        "\tos.system(command)\n",
        "\n",
        "def crop(start,end,input,output):\n",
        "\tstr = \"ffmpeg -i \" + input + \" -ss  \" + start + \" -to \" + end + \" -c copy \" + output\n",
        "\tprint(str)\n",
        "\trunBash(str)\n",
        "\n",
        "temp_hour= 0 \n",
        "temp_min = 0 \n",
        "temp_sec = 0\n",
        "\n",
        "for i in range(len(predList)):\n",
        "  sec = (predList[i]+2)*frameGap/fps\n",
        "  hour = 0\n",
        "  minute = int(sec // 60)\n",
        "  sec = sec - (minute*60)\n",
        "  if(minute > 60) :\n",
        "    minute-=60\n",
        "    hour+=1\n",
        "  \n",
        "  timeStamp1 = str(temp_hour).zfill(2) + \":\" + str(temp_min).zfill(2)+\":\"+str(int(temp_sec)).zfill(2)\n",
        "  timeStamp2 = str(temp_hour).zfill(2) + \":\"+str(minute).zfill(2)+\":\"+str(int(sec)).zfill(2)\n",
        "  temp_hour= hour\n",
        "  temp_min = minute\n",
        "  temp_sec = sec\n",
        "  crop(timeStamp1,timeStamp2,\"11.mp4\",\"test\"+str(i)+\".mp4\")\n",
        "  \n",
        "\n",
        "\n",
        "#crop(\"00:07:09\",\"00:09:12\",\"11.mp4\",\"test\"+str(i)+\".mp4\")"
      ],
      "metadata": {
        "id": "5g0V9ho2IMHV",
        "outputId": "c46298ae-bfcc-4f33-e868-d2971a396929",
        "colab": {
          "base_uri": "https://localhost:8080/"
        }
      },
      "execution_count": 65,
      "outputs": [
        {
          "output_type": "stream",
          "name": "stdout",
          "text": [
            "ffmpeg -i 11.mp4 -ss  00:00:00 -to 00:00:21 -c copy test0.mp4\n",
            "ffmpeg -i 11.mp4 -ss  00:00:21 -to 00:01:51 -c copy test1.mp4\n",
            "ffmpeg -i 11.mp4 -ss  00:01:51 -to 00:03:24 -c copy test2.mp4\n",
            "ffmpeg -i 11.mp4 -ss  00:03:24 -to 00:04:21 -c copy test3.mp4\n",
            "ffmpeg -i 11.mp4 -ss  00:04:21 -to 00:05:57 -c copy test4.mp4\n",
            "ffmpeg -i 11.mp4 -ss  00:05:57 -to 00:08:45 -c copy test5.mp4\n",
            "ffmpeg -i 11.mp4 -ss  00:08:45 -to 00:09:30 -c copy test6.mp4\n",
            "ffmpeg -i 11.mp4 -ss  00:09:30 -to 00:11:51 -c copy test7.mp4\n",
            "ffmpeg -i 11.mp4 -ss  00:11:51 -to 00:14:00 -c copy test8.mp4\n",
            "ffmpeg -i 11.mp4 -ss  00:14:00 -to 00:14:57 -c copy test9.mp4\n"
          ]
        }
      ]
    },
    {
      "cell_type": "markdown",
      "source": [
        "**영상 재생 부분 (loop안먹어서 살짝 고쳐야댐)**"
      ],
      "metadata": {
        "id": "4z72zxBVUwj_"
      }
    },
    {
      "cell_type": "code",
      "source": [
        "from IPython.display import HTML\n",
        "from os.path import basename\n",
        "\n",
        "def auth_drive():\n",
        "    from pydrive.auth import GoogleAuth\n",
        "    from pydrive.drive import GoogleDrive\n",
        "    from oauth2client.client import GoogleCredentials as GC\n",
        "    from google.colab import auth\n",
        "    auth.authenticate_user()\n",
        "    gauth = GoogleAuth()\n",
        "    gauth.credentials = GC.get_application_default()\n",
        "    return GoogleDrive(gauth)\n",
        "\n",
        "def get_file(filename):\n",
        "    \n",
        "    drive = auth_drive()\n",
        "    q = f\"title = '{filename}' and 'root' in parents\"\n",
        "    res = drive.ListFile({'q': q}).GetList()\n",
        "    if res:\n",
        "        fid = res[0]['id']\n",
        "        return drive.CreateFile({'id': fid})\n",
        "    else:\n",
        "        return drive.CreateFile({'title': filename})\n",
        "\n",
        "def upload_public(filename):\n",
        "    f = get_file(basename(filename))\n",
        "    f.SetContentFile(filename)\n",
        "    f.Upload()\n",
        "    f.InsertPermission({'type': 'anyone', 'value': 'anyone', 'role': 'reader'})\n",
        "    return 'https://drive.google.com/uc?id=' + f.get('id')  # direct link\n",
        "\n",
        "\n",
        "url = upload_public(\"test\"+str(3)+\".mp4\")\n",
        "HTML(f\"\"\"<video src={url} width=700 controls/>\"\"\")\n",
        "\n",
        "  \n",
        "#\"\"\"기본\"\"\"\n",
        "#HTML(f\"\"\"<video src={url+timeStamp} width=500 controls/>\"\"\")\n",
        "#HTML(f\"\"\"<video src={url+\"#t=01:51,03:24\"} width=700 controls/>\"\"\")\n"
      ],
      "metadata": {
        "id": "47UyShLtFBcD",
        "colab": {
          "base_uri": "https://localhost:8080/",
          "height": 545
        },
        "outputId": "c2558a3b-900f-46de-81ad-296515433f6b"
      },
      "execution_count": 71,
      "outputs": [
        {
          "output_type": "execute_result",
          "data": {
            "text/plain": [
              "<IPython.core.display.HTML object>"
            ],
            "text/html": [
              "<video src=https://drive.google.com/uc?id=1x9WifYxx2sA3U280dX9h--16VKy6oYVt width=700 controls/>"
            ]
          },
          "metadata": {},
          "execution_count": 71
        }
      ]
    }
  ]
}