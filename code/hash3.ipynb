{
  "nbformat": 4,
  "nbformat_minor": 0,
  "metadata": {
    "colab": {
      "provenance": [],
      "include_colab_link": true
    },
    "kernelspec": {
      "name": "python3",
      "display_name": "Python 3"
    },
    "language_info": {
      "name": "python"
    },
    "accelerator": "GPU",
    "gpuClass": "premium"
  },
  "cells": [
    {
      "cell_type": "markdown",
      "metadata": {
        "id": "view-in-github",
        "colab_type": "text"
      },
      "source": [
        "<a href=\"https://colab.research.google.com/github/Choiyh1116/AI_capstone/blob/CHOI/code/hash3.ipynb\" target=\"_parent\"><img src=\"https://colab.research.google.com/assets/colab-badge.svg\" alt=\"Open In Colab\"/></a>"
      ]
    },
    {
      "cell_type": "code",
      "source": [
        "!pip install pytube\n",
        "from IPython.display import YouTubeVideo\n",
        "from google.colab import drive\n",
        "import os, sys\n",
        "from pytube import YouTube\n",
        "drive.mount('/content/drive')\n",
        "path = \"/content/drive/My Drive/video\"\n",
        "title = \"11\"\n",
        "attitle = title + \".mp4\"\n",
        "os.chdir(path)\n",
        "\n",
        "youtube = YouTube(\"https://www.youtube.com/watch?v=dHTkIna_hFk\")\n",
        "\n",
        "print(youtube.title)\n",
        "video = youtube.streams.get_highest_resolution()\n",
        "vd = video.download()\n",
        "os.rename(vd, attitle)"
      ],
      "metadata": {
        "colab": {
          "base_uri": "https://localhost:8080/"
        },
        "id": "wyoaEnuBuQA4",
        "outputId": "7b17cb3f-2cc5-4bd6-8409-1ce236a2a5e5"
      },
      "execution_count": 29,
      "outputs": [
        {
          "output_type": "stream",
          "name": "stdout",
          "text": [
            "Looking in indexes: https://pypi.org/simple, https://us-python.pkg.dev/colab-wheels/public/simple/\n",
            "Requirement already satisfied: pytube in /usr/local/lib/python3.8/dist-packages (12.1.0)\n",
            "Drive already mounted at /content/drive; to attempt to forcibly remount, call drive.mount(\"/content/drive\", force_remount=True).\n",
            "[핵심 확률/통계]  독립 (Independence)\n"
          ]
        }
      ]
    },
    {
      "cell_type": "code",
      "source": [
        "from PIL import Image\n",
        "import numpy as np\n",
        "\n",
        "#Average Hash\n",
        "def average_hash(fname):\n",
        "    img = Image.open(fname)\n",
        "    img = img.convert(\"L\") \n",
        "    img = img.resize((16, 16), Image.ANTIALIAS) \n",
        "    pixel_data = img.getdata() \n",
        "    pixels = np.array(pixel_data) \n",
        "    pixels = pixels.reshape((16, 16)) \n",
        "    avg = pixels.mean() \n",
        "    diff = 1 * (pixels > avg) \n",
        "    return diff\n",
        "\n",
        "# 이진 해시로 변환\n",
        "def np2hash(ahash):\n",
        "    bhash = []\n",
        "    for nl in ahash.tolist():\n",
        "        sl = [str(i) for i in nl]\n",
        "        s2 = \"\".join(sl)\n",
        "        i = int(s2, 2) # 이진수를 정수로 변환하기\n",
        "        bhash.append(\"%04x\" % i)\n",
        "    return \"\".join(bhash)\n",
        "\n",
        "#해밍 거리 계산\n",
        "def hamming_dist(a, b):\n",
        "    aa = a.reshape(1, -1) # 1차원 배열로 변환하기\n",
        "    ab = b.reshape(1, -1)\n",
        "    dist = (aa != ab).sum()\n",
        "    return dist\n",
        "\n",
        "\n",
        "def driveMount(path):\n",
        "  from google.colab import drive\n",
        "  drive.mount('/content/drive')\n",
        "  os.chdir(path)\n",
        "\n",
        "def cv2ToImage(img: np.ndarray) -> Image:\n",
        "    # return Image.fromarray(cv2.cvtColor(img, cv2.COLOR_BGR2RGB))\n",
        "    return Image.fromarray(img)\n",
        "\n",
        "\n",
        "def imageToCv2(img: Image) -> np.ndarray:\n",
        "    # return cv2.cvtColor(numpy.array(img), cv2.COLOR_RGB2BGR)\n",
        "    return np.asarray(img)\n",
        "\n",
        "\"\"\"test 공간\"\"\"\n"
      ],
      "metadata": {
        "colab": {
          "base_uri": "https://localhost:8080/",
          "height": 35
        },
        "id": "1lT0HNT5uExI",
        "outputId": "ac2d9c1f-9153-4546-c25c-0c95331f603c"
      },
      "execution_count": 30,
      "outputs": [
        {
          "output_type": "execute_result",
          "data": {
            "text/plain": [
              "'test 공간'"
            ],
            "application/vnd.google.colaboratory.intrinsic+json": {
              "type": "string"
            }
          },
          "metadata": {},
          "execution_count": 30
        }
      ]
    },
    {
      "cell_type": "code",
      "source": [
        "import cv2\n",
        "import os\n",
        "!pip install imagehash\n",
        "from PIL import Image\n",
        "import imagehash\n",
        "import matplotlib.pyplot as plt\n",
        "driveMount(\"/content/drive/MyDrive/video\")\n",
        "\n",
        "vidName = path + \"/\" + title + \".mp4\"\n",
        "video = cv2.VideoCapture(vidName) #'' 사이에 사용할 비디오 파일의 경로 및 이름을 넣어주도록 함\n",
        "print(vidName)\n",
        "\n",
        "if not video.isOpened():\n",
        "    print(\"Could not Open :\", vidName)\n",
        "    exit(0)\n",
        "\n",
        "length = int(video.get(cv2.CAP_PROP_FRAME_COUNT))\n",
        "width = int(video.get(cv2.CAP_PROP_FRAME_WIDTH))\n",
        "height = int(video.get(cv2.CAP_PROP_FRAME_HEIGHT))\n",
        "fps = video.get(cv2.CAP_PROP_FPS)\n",
        "\n",
        "print(\"length :\", length)\n",
        "print(\"width :\", width)\n",
        "print(\"height :\", height)\n",
        "print(\"fps :\", fps)\n",
        "\n",
        "count = 0\n",
        "\n",
        "list = []\n",
        "threshold = 5 ## 아무거나\n",
        "\n",
        "while(video.isOpened()):\n",
        "    ret, image = video.read()\n",
        "    if ret:\n",
        "       \n",
        "        if(int(video.get(1)) % round(fps) == 0): #앞서 불러온 fps 값을 사용하여 1초마다 추출\n",
        "         \n",
        "          if(count != 0):\n",
        "            \n",
        "            image = cv2ToImage(image)\n",
        "            hash = imagehash.dhash(image)\n",
        "            otherhash = temp\n",
        "            list.append(hash-otherhash)\n",
        "            \n",
        "            temp = hash\n",
        "            if((hash-otherhash)>threshold) :\n",
        "              minute = int(count // 60)\n",
        "              sec = count%60\n",
        "              print(\"min =\"+str(minute)+\" sec = \"+str(sec))\n",
        "          else :\n",
        "            image = cv2ToImage(image)\n",
        "            temp = imagehash.dhash(image)\n",
        "\n",
        "          count += 1\n",
        "    else :\n",
        "          break\n",
        "\n",
        "plt.plot(list)\n",
        "plt.show()          \n",
        "video.release()"
      ],
      "metadata": {
        "colab": {
          "base_uri": "https://localhost:8080/",
          "height": 742
        },
        "id": "jmlcNna7URss",
        "outputId": "cef93cdf-dca3-47a0-ddd9-67ea8229977e"
      },
      "execution_count": 31,
      "outputs": [
        {
          "output_type": "stream",
          "name": "stdout",
          "text": [
            "Looking in indexes: https://pypi.org/simple, https://us-python.pkg.dev/colab-wheels/public/simple/\n",
            "Requirement already satisfied: imagehash in /usr/local/lib/python3.8/dist-packages (4.3.1)\n",
            "Requirement already satisfied: pillow in /usr/local/lib/python3.8/dist-packages (from imagehash) (7.1.2)\n",
            "Requirement already satisfied: PyWavelets in /usr/local/lib/python3.8/dist-packages (from imagehash) (1.3.0)\n",
            "Requirement already satisfied: numpy in /usr/local/lib/python3.8/dist-packages (from imagehash) (1.21.6)\n",
            "Requirement already satisfied: scipy in /usr/local/lib/python3.8/dist-packages (from imagehash) (1.7.3)\n",
            "Drive already mounted at /content/drive; to attempt to forcibly remount, call drive.mount(\"/content/drive\", force_remount=True).\n",
            "/content/drive/My Drive/video/11.mp4\n",
            "length : 17597\n",
            "width : 1080\n",
            "height : 720\n",
            "fps : 10.0\n",
            "min =0 sec = 10\n",
            "min =0 sec = 48\n",
            "min =3 sec = 20\n",
            "min =4 sec = 53\n",
            "min =5 sec = 0\n",
            "min =10 sec = 14\n",
            "min =13 sec = 5\n",
            "min =15 sec = 28\n",
            "min =17 sec = 11\n",
            "min =19 sec = 6\n",
            "min =21 sec = 5\n",
            "min =28 sec = 11\n",
            "min =28 sec = 14\n",
            "min =28 sec = 57\n"
          ]
        },
        {
          "output_type": "display_data",
          "data": {
            "text/plain": [
              "<Figure size 432x288 with 1 Axes>"
            ],
            "image/png": "[encoded data removed]"
          },
          "metadata": {
            "needs_background": "light"
          }
        }
      ]
    },
    {
      "cell_type": "code",
      "source": [
        "list.append(0)\n",
        "list.append(0)\n",
        "list.append(0)\n",
        "list.append(0);list.append(0);list.append(0)\n",
        " "
      ],
      "metadata": {
        "id": "wRN7Z-DQnnUw",
        "outputId": "905b9f88-f2a2-448b-8b15-7ec0ad1960ed",
        "colab": {
          "base_uri": "https://localhost:8080/",
          "height": 303
        }
      },
      "execution_count": 32,
      "outputs": [
        {
          "output_type": "stream",
          "name": "stdout",
          "text": [
            "[0, 0, 0, 0, 0, 0, 0, 0, 0, 16, 1, 0, 0, 0, 0, 0, 0, 0, 0, 0, 0, 0, 0, 0, 0, 0, 0, 0, 0, 0, 0, 0, 0, 0, 0, 0, 1, 3, 0, 0, 0, 0, 1, 2, 0, 0, 0, 19, 0, 0, 0, 0, 0, 0, 0, 0, 0, 0, 0, 0, 0, 0, 1, 0, 0, 0, 0, 0, 1, 0, 0, 0, 0, 0, 0, 0, 0, 0, 0, 1, 0, 0, 0, 0, 0, 0, 0, 0, 1, 0, 0, 0, 0, 0, 0, 0, 0, 0, 0, 0, 0, 0, 0, 0, 0, 0, 1, 0, 0, 1, 0, 0, 0, 0, 0, 0, 1, 1, 0, 0, 0, 2, 0, 1, 0, 0, 0, 0, 0, 0, 0, 0, 0, 0, 0, 0, 0, 0, 0, 0, 0, 0, 0, 2, 0, 0, 0, 0, 0, 3, 2, 1, 0, 0, 0, 3, 0, 0, 2, 0, 0, 0, 0, 3, 0, 0, 0, 0, 0, 0, 2, 0, 0, 0, 1, 0, 0, 0, 0, 0, 0, 0, 0, 0, 0, 0, 0, 0, 0, 0, 0, 0, 0, 0, 0, 0, 0, 0, 0, 18, 0, 0, 0, 0, 0, 0, 2, 0, 0, 0, 2, 1, 0, 0, 1, 4, 0, 0, 0, 3, 1, 0, 1, 1, 1, 0, 0, 0, 1, 0, 0, 0, 1, 1, 1, 1, 0, 0, 1, 2, 1, 0, 0, 0, 0, 0, 0, 0, 0, 1, 0, 0, 0, 0, 0, 1, 0, 0, 0, 0, 1, 0, 0, 1, 0, 1, 1, 0, 0, 1, 1, 1, 0, 0, 0, 0, 2, 0, 0, 0, 0, 1, 0, 2, 0, 0, 1, 1, 0, 0, 1, 0, 7, 0, 0, 0, 0, 0, 0, 18, 0, 0, 1, 1, 0, 0, 0, 0, 0, 0, 0, 0, 0, 1, 0, 0, 0, 0, 0, 1, 0, 0, 0, 0, 0, 0, 0, 0, 0, 1, 0, 0, 1, 2, 1, 1, 0, 0, 0, 0, 0, 0, 0, 0, 0, 1, 0, 0, 0, 0, 1, 0, 0, 0, 2, 2, 0, 0, 1, 0, 0, 0, 0, 0, 0, 0, 0, 0, 0, 0, 0, 0, 0, 0, 0, 0, 1, 1, 1, 0, 1, 1, 1, 0, 1, 1, 0, 0, 1, 0, 0, 0, 0, 1, 0, 0, 0, 0, 0, 0, 0, 0, 0, 0, 1, 0, 0, 0, 0, 1, 0, 0, 0, 0, 1, 2, 0, 0, 1, 1, 2, 0, 0, 0, 0, 1, 0, 0, 0, 0, 0, 2, 0, 0, 1, 0, 1, 0, 2, 0, 0, 1, 0, 0, 0, 1, 2, 2, 0, 0, 0, 0, 2, 0, 0, 0, 0, 0, 0, 0, 0, 0, 0, 2, 0, 0, 0, 0, 2, 0, 0, 0, 0, 2, 0, 0, 1, 0, 2, 2, 0, 0, 0, 0, 0, 0, 1, 1, 0, 0, 0, 0, 0, 0, 1, 1, 0, 0, 0, 0, 2, 0, 1, 0, 1, 0, 0, 0, 0, 0, 0, 3, 0, 0, 1, 0, 2, 0, 0, 0, 0, 2, 0, 0, 0, 0, 0, 1, 1, 1, 0, 0, 1, 0, 0, 0, 1, 0, 0, 0, 0, 0, 0, 1, 0, 0, 0, 0, 2, 0, 0, 0, 1, 1, 0, 1, 2, 0, 1, 1, 0, 2, 1, 0, 1, 1, 0, 0, 0, 1, 0, 0, 0, 0, 1, 1, 0, 0, 0, 1, 2, 0, 1, 1, 0, 1, 3, 0, 0, 0, 0, 2, 0, 0, 1, 1, 0, 0, 0, 0, 2, 1, 0, 1, 0, 0, 0, 2, 0, 0, 0, 0, 2, 16, 0, 0, 0, 0, 0, 0, 0, 0, 1, 2, 0, 0, 0, 0, 1, 0, 0, 0, 0, 0, 0, 0, 0, 0, 0, 1, 0, 1, 0, 0, 1, 0, 1, 1, 0, 1, 0, 0, 0, 0, 0, 2, 0, 0, 0, 0, 2, 0, 2, 1, 0, 0, 0, 0, 0, 0, 0, 1, 0, 0, 0, 0, 1, 0, 0, 0, 0, 0, 2, 1, 0, 0, 0, 0, 0, 0, 0, 0, 2, 0, 0, 1, 0, 0, 0, 0, 0, 0, 1, 1, 0, 0, 0, 0, 0, 0, 0, 0, 0, 1, 0, 0, 1, 0, 0, 0, 0, 0, 0, 0, 0, 1, 0, 0, 0, 0, 0, 0, 0, 0, 0, 0, 0, 1, 0, 1, 0, 1, 0, 0, 0, 1, 1, 0, 0, 0, 1, 1, 0, 0, 0, 0, 0, 0, 0, 0, 0, 0, 0, 0, 0, 0, 1, 0, 0, 0, 0, 0, 0, 0, 0, 0, 0, 0, 0, 0, 0, 0, 0, 0, 23, 0, 0, 0, 1, 0, 0, 0, 0, 1, 1, 1, 0, 0, 1, 0, 0, 0, 0, 0, 0, 0, 0, 0, 0, 0, 0, 0, 0, 0, 0, 0, 0, 0, 0, 1, 0, 0, 0, 0, 0, 0, 1, 0, 1, 1, 0, 0, 0, 1, 0, 0, 0, 0, 0, 0, 0, 0, 0, 0, 0, 0, 0, 0, 0, 0, 0, 0, 0, 0, 0, 0, 0, 0, 0, 0, 0, 0, 0, 0, 0, 0, 0, 0, 0, 0, 0, 0, 0, 0, 0, 0, 0, 1, 0, 0, 0, 0, 0, 0, 0, 0, 0, 0, 0, 0, 0, 0, 0, 0, 0, 0, 0, 0, 0, 0, 0, 0, 0, 0, 0, 0, 0, 0, 0, 0, 0, 1, 0, 0, 0, 0, 1, 0, 0, 0, 0, 0, 0, 1, 1, 0, 0, 21, 0, 0, 0, 0, 0, 0, 0, 0, 0, 0, 0, 0, 0, 0, 0, 0, 0, 0, 0, 0, 0, 0, 0, 0, 0, 0, 0, 0, 0, 0, 0, 0, 0, 0, 0, 0, 0, 0, 0, 0, 0, 0, 0, 0, 0, 0, 0, 0, 0, 0, 0, 0, 0, 1, 0, 1, 0, 1, 1, 0, 0, 0, 0, 0, 0, 0, 0, 0, 1, 0, 0, 1, 0, 0, 0, 1, 0, 0, 1, 1, 0, 2, 0, 0, 5, 1, 1, 0, 0, 1, 0, 0, 0, 0, 1, 1, 0, 0, 0, 0, 0, 0, 6, 2, 4, 3, 1, 1, 0, 0, 0, 1, 0, 0, 0, 0, 1, 1, 0, 0, 2, 1, 0, 1, 1, 0, 1, 1, 0, 1, 0, 0, 0, 0, 0, 0, 0, 0, 0, 0, 2, 0, 0, 1, 1, 0, 0, 1, 1, 0, 2, 0, 1, 0, 1, 0, 0, 0, 1, 2, 1, 1, 1, 1, 0, 0, 0, 0, 0, 0, 0, 0, 0, 0, 1, 5, 0, 2, 0, 0, 1, 2, 0, 2, 0, 1, 0, 0, 0, 0, 0, 0, 0, 0, 1, 0, 1, 1, 0, 0, 0, 0, 0, 0, 0, 0, 0, 1, 0, 1, 0, 0, 0, 0, 0, 1, 1, 23, 0, 0, 0, 0, 1, 1, 0, 0, 0, 0, 1, 0, 0, 0, 0, 0, 0, 0, 0, 0, 0, 0, 0, 0, 0, 0, 0, 0, 0, 0, 0, 0, 0, 0, 0, 0, 0, 0, 0, 0, 0, 1, 4, 0, 0, 0, 1, 2, 1, 1, 0, 0, 0, 0, 0, 0, 0, 0, 0, 0, 0, 0, 0, 0, 1, 0, 0, 0, 0, 2, 0, 0, 0, 0, 2, 0, 0, 0, 1, 0, 0, 1, 1, 0, 0, 2, 0, 0, 0, 0, 2, 0, 0, 0, 1, 0, 0, 1, 0, 0, 0, 2, 0, 0, 0, 0, 2, 0, 1, 1, 0, 0, 0, 1, 1, 0, 0, 2, 13, 0, 0, 0, 0, 0, 0, 0, 0, 0, 0, 0, 0, 0, 0, 0, 0, 0, 0, 0, 0, 0, 0, 0, 0, 0, 0, 0, 0, 0, 0, 0, 0, 0, 0, 0, 0, 0, 0, 0, 0, 0, 0, 0, 0, 0, 0, 0, 0, 0, 2, 1, 0, 0, 0, 0, 0, 0, 0, 0, 0, 0, 0, 0, 0, 0, 0, 0, 0, 0, 1, 0, 0, 0, 0, 0, 0, 0, 0, 0, 0, 0, 0, 0, 0, 0, 0, 0, 0, 0, 0, 0, 1, 0, 0, 1, 2, 2, 0, 0, 0, 0, 0, 0, 0, 0, 0, 0, 0, 1, 1, 1, 0, 0, 0, 0, 0, 0, 0, 0, 0, 0, 0, 0, 0, 0, 0, 1, 0, 0, 0, 0, 0, 0, 0, 0, 0, 0, 0, 0, 0, 0, 0, 0, 0, 0, 0, 0, 0, 1, 0, 1, 0, 0, 0, 1, 0, 0, 0, 1, 0, 0, 0, 0, 1, 0, 0, 0, 2, 0, 0, 3, 1, 0, 0, 0, 0, 1, 0, 0, 0, 0, 0, 0, 0, 0, 0, 0, 0, 0, 0, 1, 0, 0, 1, 0, 1, 0, 0, 0, 0, 0, 0, 0, 0, 0, 0, 1, 1, 1, 1, 0, 1, 1, 1, 0, 1, 0, 1, 0, 0, 0, 1, 0, 0, 0, 0, 0, 0, 0, 0, 0, 0, 0, 0, 0, 0, 0, 1, 0, 0, 0, 0, 0, 0, 0, 0, 0, 0, 0, 0, 0, 0, 0, 0, 0, 0, 0, 0, 1, 0, 1, 1, 0, 1, 0, 0, 0, 1, 0, 0, 0, 0, 0, 0, 0, 1, 1, 0, 0, 1, 1, 1, 0, 0, 0, 2, 0, 0, 1, 0, 3, 1, 0, 0, 0, 0, 0, 0, 0, 0, 0, 0, 0, 0, 0, 0, 0, 0, 1, 0, 1, 1, 1, 0, 1, 1, 0, 0, 0, 0, 0, 0, 0, 1, 1, 0, 0, 0, 0, 0, 0, 0, 1, 0, 1, 0, 1, 0, 0, 1, 1, 0, 3, 1, 0, 0, 0, 0, 0, 0, 0, 0, 0, 0, 0, 0, 0, 0, 0, 1, 0, 0, 0, 0, 0, 0, 0, 0, 1, 0, 0, 0, 1, 0, 1, 0, 1, 0, 0, 0, 0, 0, 0, 0, 0, 0, 0, 0, 0, 0, 0, 0, 0, 1, 0, 0, 0, 0, 0, 0, 0, 0, 0, 0, 0, 0, 0, 0, 0, 0, 0, 1, 0, 0, 0, 0, 0, 0, 0, 0, 0, 0, 0, 0, 0, 19, 0, 0, 19, 0, 0, 0, 0, 0, 0, 0, 0, 0, 0, 0, 0, 0, 0, 0, 0, 0, 0, 0, 0, 0, 0, 0, 0, 0, 0, 0, 0, 0, 0, 0, 0, 0, 0, 0, 0, 1, 0, 0, 0, 0, 0, 18, 1, 0, 5, 5, 5, 5, 0, 0, 0, 0, 0, 1, 3, 5, 4, 4, 3, 5, 0, 0, 4, 0, 0, 0, 0, 0, 0]\n"
          ]
        },
        {
          "output_type": "display_data",
          "data": {
            "text/plain": [
              "<Figure size 432x288 with 1 Axes>"
            ],
            "image/png": "[encoded data removed]"
          },
          "metadata": {
            "needs_background": "light"
          }
        }
      ]
    },
    {
      "cell_type": "code",
      "source": [
        "!pip install imagehash\n",
        "from PIL import Image\n",
        "import imagehash\n",
        "import matplotlib.pyplot as plt\n",
        "driveMount(\"/content/drive/MyDrive/testVideo/testFrame\")\n",
        "\n",
        "\"\"\"\n",
        "hash = imagehash.average_hash(Image.open('20 image.png'))\n",
        "otherhash = imagehash.average_hash(Image.open('21 image.png'))\n",
        "print(\"ahash\")\n",
        "print(hash - otherhash)\n",
        "\n",
        "hash = imagehash.phash(Image.open('20 image.png'))\n",
        "otherhash = imagehash.phash(Image.open('21 image.png'))\n",
        "print(\"phash\")\n",
        "print(hash - otherhash)\n",
        "\n",
        "hash = imagehash.dhash(Image.open('20 image.png'))\n",
        "otherhash = imagehash.dhash(Image.open('21 image.png'))\n",
        "print(\"dhash\")\n",
        "print(hash - otherhash)\"\"\"\n",
        "\n",
        "list = []\n",
        "threshold = 5 ## 아무거나\n",
        "\n",
        "temp = imagehash.dhash(Image.open('0image.png'))\n",
        "for i in range(1,1391) :\n",
        "  hash = imagehash.dhash(Image.open(str(i)+'image.png'))\n",
        "  otherhash = temp\n",
        "  list.append(hash - otherhash)\n",
        "  temp = hash\n",
        "  if((hash-otherhash)>threshold) :\n",
        "    minute = int(i // 60)\n",
        "    sec = i%60\n",
        "    print(\"min =\"+str(minute)+\" sec = \"+str(sec))\n",
        "plt.plot(list)\n",
        "plt.show()"
      ],
      "metadata": {
        "colab": {
          "base_uri": "https://localhost:8080/",
          "height": 596
        },
        "id": "Cv1aZZq20uy5",
        "outputId": "05f3f4ab-5cd1-4d61-a1e9-842a08140c60"
      },
      "execution_count": 33,
      "outputs": [
        {
          "output_type": "stream",
          "name": "stdout",
          "text": [
            "Looking in indexes: https://pypi.org/simple, https://us-python.pkg.dev/colab-wheels/public/simple/\n",
            "Requirement already satisfied: imagehash in /usr/local/lib/python3.8/dist-packages (4.3.1)\n",
            "Requirement already satisfied: PyWavelets in /usr/local/lib/python3.8/dist-packages (from imagehash) (1.3.0)\n",
            "Requirement already satisfied: scipy in /usr/local/lib/python3.8/dist-packages (from imagehash) (1.7.3)\n",
            "Requirement already satisfied: numpy in /usr/local/lib/python3.8/dist-packages (from imagehash) (1.21.6)\n",
            "Requirement already satisfied: pillow in /usr/local/lib/python3.8/dist-packages (from imagehash) (7.1.2)\n",
            "Drive already mounted at /content/drive; to attempt to forcibly remount, call drive.mount(\"/content/drive\", force_remount=True).\n",
            "min =0 sec = 7\n",
            "min =0 sec = 33\n",
            "min =6 sec = 7\n",
            "min =8 sec = 44\n",
            "min =11 sec = 18\n"
          ]
        },
        {
          "output_type": "error",
          "ename": "KeyboardInterrupt",
          "evalue": "ignored",
          "traceback": [
            "\u001b[0;31m---------------------------------------------------------------------------\u001b[0m",
            "\u001b[0;31mKeyboardInterrupt\u001b[0m                         Traceback (most recent call last)",
            "\u001b[0;32m<ipython-input-33-9c66ce3e41ea>\u001b[0m in \u001b[0;36m<module>\u001b[0;34m\u001b[0m\n\u001b[1;32m     26\u001b[0m \u001b[0mtemp\u001b[0m \u001b[0;34m=\u001b[0m \u001b[0mimagehash\u001b[0m\u001b[0;34m.\u001b[0m\u001b[0mdhash\u001b[0m\u001b[0;34m(\u001b[0m\u001b[0mImage\u001b[0m\u001b[0;34m.\u001b[0m\u001b[0mopen\u001b[0m\u001b[0;34m(\u001b[0m\u001b[0;34m'0image.png'\u001b[0m\u001b[0;34m)\u001b[0m\u001b[0;34m)\u001b[0m\u001b[0;34m\u001b[0m\u001b[0;34m\u001b[0m\u001b[0m\n\u001b[1;32m     27\u001b[0m \u001b[0;32mfor\u001b[0m \u001b[0mi\u001b[0m \u001b[0;32min\u001b[0m \u001b[0mrange\u001b[0m\u001b[0;34m(\u001b[0m\u001b[0;36m1\u001b[0m\u001b[0;34m,\u001b[0m\u001b[0;36m1391\u001b[0m\u001b[0;34m)\u001b[0m \u001b[0;34m:\u001b[0m\u001b[0;34m\u001b[0m\u001b[0;34m\u001b[0m\u001b[0m\n\u001b[0;32m---> 28\u001b[0;31m   \u001b[0mhash\u001b[0m \u001b[0;34m=\u001b[0m \u001b[0mimagehash\u001b[0m\u001b[0;34m.\u001b[0m\u001b[0mdhash\u001b[0m\u001b[0;34m(\u001b[0m\u001b[0mImage\u001b[0m\u001b[0;34m.\u001b[0m\u001b[0mopen\u001b[0m\u001b[0;34m(\u001b[0m\u001b[0mstr\u001b[0m\u001b[0;34m(\u001b[0m\u001b[0mi\u001b[0m\u001b[0;34m)\u001b[0m\u001b[0;34m+\u001b[0m\u001b[0;34m'image.png'\u001b[0m\u001b[0;34m)\u001b[0m\u001b[0;34m)\u001b[0m\u001b[0;34m\u001b[0m\u001b[0;34m\u001b[0m\u001b[0m\n\u001b[0m\u001b[1;32m     29\u001b[0m   \u001b[0motherhash\u001b[0m \u001b[0;34m=\u001b[0m \u001b[0mtemp\u001b[0m\u001b[0;34m\u001b[0m\u001b[0;34m\u001b[0m\u001b[0m\n\u001b[1;32m     30\u001b[0m   \u001b[0mlist\u001b[0m\u001b[0;34m.\u001b[0m\u001b[0mappend\u001b[0m\u001b[0;34m(\u001b[0m\u001b[0mhash\u001b[0m \u001b[0;34m-\u001b[0m \u001b[0motherhash\u001b[0m\u001b[0;34m)\u001b[0m\u001b[0;34m\u001b[0m\u001b[0;34m\u001b[0m\u001b[0m\n",
            "\u001b[0;32m/usr/local/lib/python3.8/dist-packages/PIL/Image.py\u001b[0m in \u001b[0;36mopen\u001b[0;34m(fp, mode)\u001b[0m\n\u001b[1;32m   2850\u001b[0m         \u001b[0mexclusive_fp\u001b[0m \u001b[0;34m=\u001b[0m \u001b[0;32mTrue\u001b[0m\u001b[0;34m\u001b[0m\u001b[0;34m\u001b[0m\u001b[0m\n\u001b[1;32m   2851\u001b[0m \u001b[0;34m\u001b[0m\u001b[0m\n\u001b[0;32m-> 2852\u001b[0;31m     \u001b[0mprefix\u001b[0m \u001b[0;34m=\u001b[0m \u001b[0mfp\u001b[0m\u001b[0;34m.\u001b[0m\u001b[0mread\u001b[0m\u001b[0;34m(\u001b[0m\u001b[0;36m16\u001b[0m\u001b[0;34m)\u001b[0m\u001b[0;34m\u001b[0m\u001b[0;34m\u001b[0m\u001b[0m\n\u001b[0m\u001b[1;32m   2853\u001b[0m \u001b[0;34m\u001b[0m\u001b[0m\n\u001b[1;32m   2854\u001b[0m     \u001b[0mpreinit\u001b[0m\u001b[0;34m(\u001b[0m\u001b[0;34m)\u001b[0m\u001b[0;34m\u001b[0m\u001b[0;34m\u001b[0m\u001b[0m\n",
            "\u001b[0;31mKeyboardInterrupt\u001b[0m: "
          ]
        }
      ]
    },
    {
      "cell_type": "markdown",
      "source": [
        "jkol"
      ],
      "metadata": {
        "id": "N1-p7ZuugS-K"
      }
    },
    {
      "cell_type": "code",
      "execution_count": null,
      "metadata": {
        "id": "laUqThSCklNd"
      },
      "outputs": [],
      "source": [
        "import torch\n",
        "import cv2\n",
        "import os\n",
        "import numpy as np\n",
        "import matplotlib.pylab as plt\n",
        "import time\n",
        "\n",
        "vidName = path + \"/\" + title + \".mp4\"\n",
        "methods = ['CORREL', 'CHISQR', 'INTERSECT', 'BHATTACHARYYA', 'EMD']\n",
        "hists = []\n",
        "\n",
        "print(vidName)\n",
        "\n",
        "#csv파일관련\n",
        "cor, chi, ist, bha, emd, sct = list(), list(), list(), list(), list(), list()\n",
        "csvName = path + \"/\" + title + \".csv\"\n",
        "filecsv = open(csvName, \"w\")\n",
        "\n",
        "print(csvName)\n",
        "\n",
        "#영상 못불러오면 재시도\n",
        "\"\"\"if not vidcap.isOpened():\n",
        "    print(\"Could not Open..\")\n",
        "    exit(0)\"\"\"\n",
        "\n",
        "vidcap = cv2.VideoCapture(vidName)\n",
        "while(not vidcap.isOpened()):\n",
        "  print(\"Could not Open..\")\n",
        "  time.sleep(1)\n",
        "  vidcap = cv2.VideoCapture(vidName)\n",
        "\n",
        "count = 0\n",
        "\n",
        "\n",
        "\n",
        "#각각 초당프레임, 영상 총 프레임 수, 계산된 영상 길이(초단위)\n",
        "while(True):\n",
        "  fps = int(vidcap.get(cv2.CAP_PROP_FPS))\n",
        "  if(fps!=0):\n",
        "    break\n",
        "  else:\n",
        "    print(\"file is not loading...\")\n",
        "totalf = vidcap.get(cv2.CAP_PROP_FRAME_COUNT)\n",
        "totalt = totalf/fps\n",
        "#print(\"FPS : %d\\t영상길이 : %f\"%(fps,totalt))\n",
        "\n",
        "#코드돌리는시간이 너무 길다면, 조절한다 -> frameGap\n",
        "frameGap = fps*3\n",
        "gapCount = int(frameGap-1)\n",
        "\n",
        "while(vidcap.isOpened()):\n",
        "    if(gapCount==0):\n",
        "        ret, image = vidcap.read()\n",
        "        gapCount = int(frameGap-1)\n",
        "    else:\n",
        "        ret = vidcap.grab()\n",
        "        gapCount -= 1\n",
        "        continue\n",
        "    if ret:\n",
        "        if(int (vidcap.get(1) % frameGap == 0)):\n",
        "            hsv = cv2.cvtColor(image, cv2.COLOR_BGR2HSV)\n",
        "            hist = cv2.calcHist([hsv], [0, 1], None, [180, 256], [0, 180, 0, 256])\n",
        "            cv2.normalize(hist, hist, 0, 1, cv2.NORM_MINMAX)\n",
        "            hists.append(hist)\n",
        "                \n",
        "            if(len(hists)==2):\n",
        "                query = hists[0]\n",
        "                for index, name in enumerate(methods):\n",
        "    \n",
        "                    for i, histogram in enumerate(hists):\n",
        "                        if(i == 0):\n",
        "                            continue\n",
        "                        compare = cv2.compareHist(query, histogram, index) \n",
        "        \n",
        "                        if(index == cv2.HISTCMP_INTERSECT):\n",
        "                            compare = compare/np.sum(query)\n",
        "                        \n",
        "                        if(name == 'CORREL'):\n",
        "                            cor.append(compare)\n",
        "                        if(name == 'CHISQR'):\n",
        "                            chi.append(compare)\n",
        "                        if(name == 'INTERSECT'):\n",
        "                            ist.append(compare)\n",
        "                        if(name == 'BHATTACHARYYA'):\n",
        "                            bha.append(compare)\n",
        "                        if(name == 'EMD'):\n",
        "                            emd.append(compare)\n",
        "                            sct.append(0)\n",
        "                            \n",
        "                del(hists[0])\n",
        "            \n",
        "            \n",
        "            count += 1\n",
        "    else:\n",
        "        break\n",
        "        \n",
        "filecsv.write('CORREL,CHISQR,INTERSECT,BHATTACHARYYA,EMD,Screen_Transition\\n')\n",
        "filecsv.write(str(fps)+','+str(totalf)+','+str(frameGap)+',0,0,0\\n')\n",
        "for i in range(len(cor)):\n",
        "    filecsv.write(str(cor[i]) + ',' + str(chi[i]) + ',' + str(ist[i]) + ',' + str(bha[i]) + ',' + str(emd[i]) + ',' + str(sct[i]) + '\\n')\n",
        "    \n",
        "filecsv.close()\n",
        "\n",
        "del(cor,chi,ist,bha,emd,sct)\n",
        "\n",
        "vidcap.release()"
      ]
    },
    {
      "cell_type": "code",
      "source": [
        "\"\"\"\n",
        "csv -> mean, var, standard Deviation\n",
        "\"\"\"\n",
        "import pandas as pd\n",
        "import matplotlib.pyplot as plt\n",
        "import time\n",
        "import seaborn as sns\n",
        "%matplotlib inline\n",
        "\n",
        "#skiprows = 몇 번째 행까지 스킵할지\n",
        "#usecols =  어떤 열을 읽을지\n",
        "\n",
        "df = pd.read_csv(csvName, skiprows = 0, usecols = (0,1,2,3,4,5))\n",
        "\n",
        "\n",
        "row = len(df)\n",
        "df.shape[0]\n",
        "len(df.index)\n",
        "\n",
        "x = range(0, row)\n",
        "\n",
        "y_cor = df.loc[:,'CORREL']\n",
        "y_chi = df.loc[:,'CHISQR']\n",
        "y_int = df.loc[:,'INTERSECT']\n",
        "y_bha = df.loc[:,'BHATTACHARYYA']\n",
        "y_emd = df.loc[:,'EMD']\n",
        "\n",
        "#plt.plot(x,y_cor,'-',label = 'CORREL')\n",
        "#plt.plot(x,y_chi,'-', label = 'CHISQR')\n",
        "#plt.plot(x,y_int,'-', label = 'INTERSECT')\n",
        "#plt.plot(x,y_bha,'-', label = 'BHATTACHARYYA')\n",
        "plt.plot(x,y_emd,'-', label = 'EMD')\n",
        "\n"
      ],
      "metadata": {
        "id": "1wFmWjMYC-1K"
      },
      "execution_count": null,
      "outputs": []
    },
    {
      "cell_type": "code",
      "source": [
        "import pickle\n",
        "import joblib\n",
        "import pandas as pd\n",
        "\n",
        "r1 = ['CORREL','CHISQR','INTERSECT','BHATTACHARYYA','EMD']\n",
        "#r2 = ['Screen_Transition']\n",
        "\n",
        "df = pd.read_csv(csvName)\n",
        "xorigin = df[r1]\n",
        "dl = df.loc[0].to_list()\n",
        "df.drop(0,axis=0,inplace=True)\n",
        "\n",
        "fps, totalf, frameGap = dl[0], dl[1], dl[2]\n",
        "\n",
        "x = df[r1]\n",
        "#y = df['Screen_Transition']\n",
        "\n",
        "model = joblib.load('/content/drive/MyDrive/model/model3.pkl')\n",
        "\n",
        "pred = model.predict(x)\n",
        "\n",
        "predDf = pd.DataFrame(pred)\n",
        "predDf.columns = ['Screen_Transition']\n",
        "\n",
        "predList = predDf.loc[predDf['Screen_Transition']==1].index.tolist()\n",
        "\n",
        "new_row = pd.DataFrame([[str(len(predList))]], columns = predDf.columns)\n",
        "predDf = pd.concat([predDf.iloc[:0], new_row, predDf.iloc[0:]], ignore_index = True)\n",
        "\n",
        "acttime = []\n",
        "for i in range(len(predList)):\n",
        "    sec = (predList[i]+2)*frameGap/fps\n",
        "    minute = int(sec // 60)\n",
        "    sec = sec - (minute*60)\n",
        "    acttime.append(str(minute)+'분 '+str(sec)+'초')\n",
        "\n",
        "print(\"총 장면전환 개수 : \", len(predList))\n",
        "\n",
        "for i in range(len(acttime)):\n",
        "    print('\\t\\t'+acttime[i])\n",
        "\n",
        "x = pd.concat([xorigin,predDf],axis=1)\n",
        "\n",
        "x.to_csv(csvName, index = False, mode='w')"
      ],
      "metadata": {
        "id": "4NWnmN0GlQCv"
      },
      "execution_count": null,
      "outputs": []
    },
    {
      "cell_type": "code",
      "source": [
        "predList"
      ],
      "metadata": {
        "id": "zjcVZDy7JR9c"
      },
      "execution_count": null,
      "outputs": []
    },
    {
      "cell_type": "code",
      "source": [
        "import cv2\n",
        "from google.colab.patches import cv2_imshow\n",
        "\n",
        "vidcap = cv2.VideoCapture(vidName)\n",
        "\n",
        "for i in range(len(predList)):\n",
        "  fCount = int((predList[i]+2)*frameGap)\n",
        "  print(frameGap,fps,fCount)\n",
        "  if(i>0):\n",
        "    fCount -= int((predList[i-1]+2)*frameGap)\n",
        "  \n",
        "  while(fCount != 0):\n",
        "    fCount -= 1\n",
        "    if(fCount==frameGap):\n",
        "      ret, oimage = vidcap.read()\n",
        "    else:\n",
        "      ret = vidcap.grab()\n",
        "\n",
        "  ret, image = vidcap.read()\n",
        "  if(not ret):\n",
        "    continue\n",
        "  sec = (predList[i]+2)*frameGap/fps\n",
        "  minute = int(sec // 60)\n",
        "  sec = sec - (minute*60)\n",
        "  print(str(minute)+'분 '+str(sec)+'초')\n",
        "  print(predList[i])\n",
        "  #cv2.imshow('color', image)\n",
        "  oimage = cv2.resize(oimage, (480, 360))\n",
        "  image = cv2.resize(image, (480, 360))\n",
        "  cv2_imshow(oimage)\n",
        "  print(\"\\n\")\n",
        "  cv2_imshow(image)\n",
        "  print(\"\\n\")\n",
        "  #cv2.waitKey(0) \n",
        "  #cv2.destroyAllWindows()\n",
        "\n",
        "\n",
        "vidcap.release()"
      ],
      "metadata": {
        "id": "Gh98HsDolYl4"
      },
      "execution_count": null,
      "outputs": []
    },
    {
      "cell_type": "markdown",
      "source": [
        "**영상 분할** "
      ],
      "metadata": {
        "id": "ssU8V1s3UnWw"
      }
    },
    {
      "cell_type": "code",
      "source": [
        "import os\n",
        "\n",
        "def runBash(command):\n",
        "\tos.system(command)\n",
        "\n",
        "def crop(start,end,input,output):\n",
        "\tstr = \"ffmpeg -i \" + input + \" -ss  \" + start + \" -to \" + end + \" -c copy \" + output\n",
        "\tprint(str)\n",
        "\trunBash(str)\n",
        "\n",
        "temp_hour= 0 \n",
        "temp_min = 0 \n",
        "temp_sec = 0\n",
        "\n",
        "for i in range(len(predList)):\n",
        "  sec = (predList[i]+2)*frameGap/fps\n",
        "  hour = 0\n",
        "  minute = int(sec // 60)\n",
        "  sec = sec - (minute*60)\n",
        "  if(minute > 60) :\n",
        "    minute-=60\n",
        "    hour+=1\n",
        "  \n",
        "  timeStamp1 = str(temp_hour).zfill(2) + \":\" + str(temp_min).zfill(2)+\":\"+str(int(temp_sec)).zfill(2)\n",
        "  timeStamp2 = str(temp_hour).zfill(2) + \":\"+str(minute).zfill(2)+\":\"+str(int(sec)).zfill(2)\n",
        "  temp_hour= hour\n",
        "  temp_min = minute\n",
        "  temp_sec = sec\n",
        "  crop(timeStamp1,timeStamp2,\"11.mp4\",\"test\"+str(i)+\".mp4\")\n",
        "  \n",
        "\n",
        "\n",
        "#crop(\"00:07:09\",\"00:09:12\",\"11.mp4\",\"test\"+str(i)+\".mp4\")"
      ],
      "metadata": {
        "id": "5g0V9ho2IMHV"
      },
      "execution_count": null,
      "outputs": []
    },
    {
      "cell_type": "markdown",
      "source": [
        "**영상 재생 부분 (loop안먹어서 살짝 고쳐야댐)**"
      ],
      "metadata": {
        "id": "4z72zxBVUwj_"
      }
    },
    {
      "cell_type": "code",
      "source": [
        "from IPython.display import HTML\n",
        "from os.path import basename\n",
        "\n",
        "def auth_drive():\n",
        "    from pydrive.auth import GoogleAuth\n",
        "    from pydrive.drive import GoogleDrive\n",
        "    from oauth2client.client import GoogleCredentials as GC\n",
        "    from google.colab import auth\n",
        "    auth.authenticate_user()\n",
        "    gauth = GoogleAuth()\n",
        "    gauth.credentials = GC.get_application_default()\n",
        "    return GoogleDrive(gauth)\n",
        "\n",
        "def get_file(filename):\n",
        "    \n",
        "    drive = auth_drive()\n",
        "    q = f\"title = '{filename}' and 'root' in parents\"\n",
        "    res = drive.ListFile({'q': q}).GetList()\n",
        "    if res:\n",
        "        fid = res[0]['id']\n",
        "        return drive.CreateFile({'id': fid})\n",
        "    else:\n",
        "        return drive.CreateFile({'title': filename})\n",
        "\n",
        "def upload_public(filename):\n",
        "    f = get_file(basename(filename))\n",
        "    f.SetContentFile(filename)\n",
        "    f.Upload()\n",
        "    f.InsertPermission({'type': 'anyone', 'value': 'anyone', 'role': 'reader'})\n",
        "    return 'https://drive.google.com/uc?id=' + f.get('id')  # direct link\n",
        "\n",
        "\n",
        "url = upload_public(\"test\"+str(3)+\".mp4\")\n",
        "HTML(f\"\"\"<video src={url} width=700 controls/>\"\"\")\n",
        "\n",
        "  \n",
        "#\"\"\"기본\"\"\"\n",
        "#HTML(f\"\"\"<video src={url+timeStamp} width=500 controls/>\"\"\")\n",
        "#HTML(f\"\"\"<video src={url+\"#t=01:51,03:24\"} width=700 controls/>\"\"\")\n"
      ],
      "metadata": {
        "id": "47UyShLtFBcD"
      },
      "execution_count": null,
      "outputs": []
    }
  ]
}