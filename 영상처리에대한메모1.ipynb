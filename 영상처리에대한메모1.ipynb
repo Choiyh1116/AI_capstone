{
  "nbformat": 4,
  "nbformat_minor": 0,
  "metadata": {
    "colab": {
      "provenance": [],
      "authorship_tag": "ABX9TyNu29gKFiC17KzSUq4qmmGR",
      "include_colab_link": true
    },
    "kernelspec": {
      "name": "python3",
      "display_name": "Python 3"
    },
    "language_info": {
      "name": "python"
    }
  },
  "cells": [
    {
      "cell_type": "markdown",
      "metadata": {
        "id": "view-in-github",
        "colab_type": "text"
      },
      "source": [
        "<a href=\"https://colab.research.google.com/github/Choiyh1116/AI_capstone/blob/%EB%B3%B4%EC%9D%B4%EC%A7%80%EC%95%8A%EB%8A%94%EA%B2%80%EC%9D%B4%EA%B0%80%EC%9E%A5%EB%AC%B4%EC%84%9C%EC%9A%B4%EB%B2%95/%EC%98%81%EC%83%81%EC%B2%98%EB%A6%AC%EC%97%90%EB%8C%80%ED%95%9C%EB%A9%94%EB%AA%A81.ipynb\" target=\"_parent\"><img src=\"https://colab.research.google.com/assets/colab-badge.svg\" alt=\"Open In Colab\"/></a>"
      ]
    },
    {
      "cell_type": "code",
      "execution_count": null,
      "metadata": {
        "id": "QPyxJzhtGr7u"
      },
      "outputs": [],
      "source": []
    },
    {
      "cell_type": "markdown",
      "source": [
        "**영상 인식**\n",
        "\n",
        "영상 즉, 이미지데이터를 가지고 이미지 처리를 하거나 인공지능을 거쳐서 영상에 포함된 의미를 분석, 해석해내는 과정\n",
        "컴퓨터를 사용해서 영상을 처리, 즉 이미지 처리를 연구하는 분야인 컴퓨터 비전에 속하며, 영상인식은 컴퓨터 비전의 핵심 작업이다."
      ],
      "metadata": {
        "id": "scWdXCCnGxBA"
      }
    },
    {
      "cell_type": "markdown",
      "source": [
        "**영상 인식 작업의 종류**\n",
        "\n",
        "\n",
        "**객체 탐지**\n",
        "\n",
        "오브젝트가 존재하는지에 대한 유무 판단\n",
        "찾고자 하는 객체의 특징을 사전에 추출하고 주어진 영상에서 해당 특징을 검출해내는 접근을 사용한다. 객체 탐지를 통해서는 정해진 특징에 맞는 어떤 객체이다 정도 까지만 판단 가능하다.\n",
        "\n",
        "**객체 인식**\n",
        "\n",
        "검출된 객체, 그 객체 자체가 무엇인지 인식 시키는 개념\n",
        "객체 탐지되어야 진행 가능하며, 객체가 라벨링 된다고 생각하면 된다.\n",
        "\n",
        "**객체 추적**\n",
        "\n",
        "탐지된 객체, 인식된 객체를 매 프레임마다 확인하면서 그 객체가 어떻게 어디로 움직이는지 등을 파악하며 추적하는 것\n",
        "객체 탐지, 인식이 선행되어야 진행할 수 있다.\n",
        "\n",
        "**객체 영역 분할**\n",
        "\n",
        "단순히 분류에 그치지 않고 인식된 대상을 픽셀 단위로 정확히 분할하고 나누어내는 것"
      ],
      "metadata": {
        "id": "93EAeADIG4K1"
      }
    },
    {
      "cell_type": "markdown",
      "source": [
        "**영상의 특징**\n",
        "\n",
        "**주변과 다르게 숫자가 변하는 수치적 느낌이 있는 것(수치적 의미)**\n",
        "\n",
        "가장 중요한 것은 영상이 인식되려면 먼저 객체의 특징을 사전에 정의하고 추출해야 한다는 것이다. \n",
        "\n",
        "영상에 대한 특징을 구하는 것은 숫자값들이 확 변하거나 내가 검출한 점이나 픽셀 간격이 확 벌어진다는 등의 특징을 구할 수 있다. \n",
        "\n",
        "이러한 특징을 구하려면 애매하게 차이나는 것들을 확실하게 구분지어서 특징을 보다 쉽게 잡는다거나 관심 있는 것 이외의 것들에 영향을 미치지 않게 해서 특징을 잡기 쉽게 해주는 등의 전처리 또는 처리 과정이 필요하다."
      ],
      "metadata": {
        "id": "bo6AvkcbG-7J"
      }
    },
    {
      "cell_type": "markdown",
      "source": [
        "**영상 처리 알고리즘의 종류**\n",
        "\n",
        "\n",
        "**화소점 처리**\n",
        "\n",
        "원 화소의 값이나 위치를 바탕으로 단일 화소 값을 변경하는 기술\n",
        "\n",
        ">화소 점, 픽셀의 원래 값이나 위치를 기준으로 그 픽셀 안의 값을 변경하면서 이루어지는 처리로 산술 연산과 논리 연산의 방법이 있다.\n",
        "\n",
        "**영역 처리**\n",
        "\n",
        "픽셀의 원래 값과 이웃하는 여러 픽셀이 서로 관계하여 생성된 픽셀 값을 기준으로 값이 변경 되는 것\n",
        "\n",
        ">블러링 : 영상 세세한 부분까지 제거해 흐릿하게 만든다.\n",
        "\n",
        ">샤프닝 : 주변 픽셀을 대비해서 값이 크게 변하는 경계 부분이 돋보이게 하는 기법으로 개체들의 윤곽이 뚜렷해진다.\n",
        "\n",
        "**기하학 처리**\n",
        "\n",
        "디지털 영상 픽셀의 위치나 픽셀의 모임인 배열을 변화시키는 방법\n",
        "\n",
        "**프레임 처리**\n",
        "\n",
        "두가지 이상의 서로다른 영상으로 각종 연산을 조합하여 새로운 픽셀값을 생성\n",
        "\n",
        ">1초전 영상과 현재의 영상에서 1초전 영상 - 현재의 영상 의 값이 0이 아니라면 그 부분을 흰색으로, 0인 부분을 흑색으로 처리한다."
      ],
      "metadata": {
        "id": "QpeK_Qr9HLDT"
      }
    },
    {
      "cell_type": "code",
      "source": [],
      "metadata": {
        "id": "CmQQp48FHUpJ"
      },
      "execution_count": null,
      "outputs": []
    }
  ]
}