{
  "nbformat": 4,
  "nbformat_minor": 0,
  "metadata": {
    "colab": {
      "provenance": [],
      "authorship_tag": "ABX9TyMwUhLvZ1cwyYBV2bYYRia4",
      "include_colab_link": true
    },
    "kernelspec": {
      "name": "python3",
      "display_name": "Python 3"
    },
    "language_info": {
      "name": "python"
    },
    "accelerator": "GPU",
    "gpuClass": "standard"
  },
  "cells": [
    {
      "cell_type": "markdown",
      "metadata": {
        "id": "view-in-github",
        "colab_type": "text"
      },
      "source": [
        "<a href=\"https://colab.research.google.com/github/Choiyh1116/AI_capstone/blob/main/Code/VideoCheck3.ipynb\" target=\"_parent\"><img src=\"https://colab.research.google.com/assets/colab-badge.svg\" alt=\"Open In Colab\"/></a>"
      ]
    },
    {
      "cell_type": "code",
      "source": [
        "!pip install pytube\n",
        "from IPython.display import YouTubeVideo\n",
        "from google.colab import drive\n",
        "import os, sys\n",
        "from pytube import YouTube\n",
        "drive.mount('/content/drive')\n",
        "path = \"/content/drive/My Drive/Videos\"\n",
        "title = \"7\"\n",
        "attitle = title + \".mp4\"\n",
        "os.chdir(path)\n",
        "\n",
        "youtube = YouTube(\"https://www.youtube.com/watch?v=-NfZt6pUexo&ab_channel=JaehoKim\")\n",
        "\n",
        "print(youtube.title)\n",
        "video = youtube.streams.get_highest_resolution()\n",
        "vd = video.download()\n",
        "os.rename(vd, attitle)"
      ],
      "metadata": {
        "colab": {
          "base_uri": "https://localhost:8080/"
        },
        "id": "wyoaEnuBuQA4",
        "outputId": "521becc0-a144-4aeb-ed09-31ffc16b4c40"
      },
      "execution_count": 26,
      "outputs": [
        {
          "output_type": "stream",
          "name": "stdout",
          "text": [
            "Looking in indexes: https://pypi.org/simple, https://us-python.pkg.dev/colab-wheels/public/simple/\n",
            "Requirement already satisfied: pytube in /usr/local/lib/python3.7/dist-packages (12.1.0)\n",
            "Drive already mounted at /content/drive; to attempt to forcibly remount, call drive.mount(\"/content/drive\", force_remount=True).\n",
            "1-1 공학설계의배경(창의적기초공학설계)\n"
          ]
        }
      ]
    },
    {
      "cell_type": "code",
      "execution_count": 27,
      "metadata": {
        "id": "laUqThSCklNd",
        "colab": {
          "base_uri": "https://localhost:8080/"
        },
        "outputId": "bb37f56f-48fa-425f-e328-1c5ca0731981"
      },
      "outputs": [
        {
          "output_type": "stream",
          "name": "stdout",
          "text": [
            "/content/drive/My Drive/Videos/7.mp4\n",
            "/content/drive/My Drive/Videos/7.csv\n"
          ]
        }
      ],
      "source": [
        "import torch\n",
        "import cv2\n",
        "import os\n",
        "import numpy as np\n",
        "import matplotlib.pylab as plt\n",
        "import time\n",
        "\n",
        "vidName = path + \"/\" + title + \".mp4\"\n",
        "methods = ['CORREL', 'CHISQR', 'INTERSECT', 'BHATTACHARYYA', 'EMD']\n",
        "hists = []\n",
        "\n",
        "print(vidName)\n",
        "\n",
        "#csv파일관련\n",
        "cor, chi, ist, bha, emd, sct = list(), list(), list(), list(), list(), list()\n",
        "csvName = path + \"/\" + title + \".csv\"\n",
        "filecsv = open(csvName, \"w\")\n",
        "\n",
        "print(csvName)\n",
        "\n",
        "#영상 못불러오면 재시도\n",
        "\"\"\"if not vidcap.isOpened():\n",
        "    print(\"Could not Open..\")\n",
        "    exit(0)\"\"\"\n",
        "\n",
        "vidcap = cv2.VideoCapture(vidName)\n",
        "while(not vidcap.isOpened()):\n",
        "  print(\"Could not Open..\")\n",
        "  time.sleep(1)\n",
        "  vidcap = cv2.VideoCapture(vidName)\n",
        "\n",
        "count = 0\n",
        "\n",
        "\n",
        "\n",
        "#각각 초당프레임, 영상 총 프레임 수, 계산된 영상 길이(초단위)\n",
        "while(True):\n",
        "  fps = int(vidcap.get(cv2.CAP_PROP_FPS))\n",
        "  if(fps!=0):\n",
        "    break\n",
        "  else:\n",
        "    print(\"file is not loading...\")\n",
        "totalf = vidcap.get(cv2.CAP_PROP_FRAME_COUNT)\n",
        "totalt = totalf/fps\n",
        "#print(\"FPS : %d\\t영상길이 : %f\"%(fps,totalt))\n",
        "\n",
        "#코드돌리는시간이 너무 길다면, 조절한다 -> frameGap\n",
        "frameGap = fps*3\n",
        "gapCount = int(frameGap-1)\n",
        "\n",
        "while(vidcap.isOpened()):\n",
        "    if(gapCount==0):\n",
        "        ret, image = vidcap.read()\n",
        "        gapCount = int(frameGap-1)\n",
        "    else:\n",
        "        ret = vidcap.grab()\n",
        "        gapCount -= 1\n",
        "        continue\n",
        "    if ret:\n",
        "        if(int (vidcap.get(1) % frameGap == 0)):\n",
        "            hsv = cv2.cvtColor(image, cv2.COLOR_BGR2HSV)\n",
        "            hist = cv2.calcHist([hsv], [0, 1], None, [180, 256], [0, 180, 0, 256])\n",
        "            cv2.normalize(hist, hist, 0, 1, cv2.NORM_MINMAX)\n",
        "            hists.append(hist)\n",
        "                \n",
        "            if(len(hists)==2):\n",
        "                query = hists[0]\n",
        "                for index, name in enumerate(methods):\n",
        "    \n",
        "                    for i, histogram in enumerate(hists):\n",
        "                        if(i == 0):\n",
        "                            continue\n",
        "                        compare = cv2.compareHist(query, histogram, index) \n",
        "        \n",
        "                        if(index == cv2.HISTCMP_INTERSECT):\n",
        "                            compare = compare/np.sum(query)\n",
        "                        \n",
        "                        if(name == 'CORREL'):\n",
        "                            cor.append(compare)\n",
        "                        if(name == 'CHISQR'):\n",
        "                            chi.append(compare)\n",
        "                        if(name == 'INTERSECT'):\n",
        "                            ist.append(compare)\n",
        "                        if(name == 'BHATTACHARYYA'):\n",
        "                            bha.append(compare)\n",
        "                        if(name == 'EMD'):\n",
        "                            emd.append(compare)\n",
        "                            sct.append(0)\n",
        "                            \n",
        "                del(hists[0])\n",
        "            \n",
        "            \n",
        "            count += 1\n",
        "    else:\n",
        "        break\n",
        "        \n",
        "filecsv.write('CORREL,CHISQR,INTERSECT,BHATTACHARYYA,EMD,Screen_Transition\\n')\n",
        "filecsv.write(str(fps)+','+str(totalf)+','+str(frameGap)+',0,0,0\\n')\n",
        "for i in range(len(cor)):\n",
        "    filecsv.write(str(cor[i]) + ',' + str(chi[i]) + ',' + str(ist[i]) + ',' + str(bha[i]) + ',' + str(emd[i]) + ',' + str(sct[i]) + '\\n')\n",
        "    \n",
        "filecsv.close()\n",
        "\n",
        "del(cor,chi,ist,bha,emd,sct)\n",
        "\n",
        "vidcap.release()"
      ]
    },
    {
      "cell_type": "code",
      "source": [
        "import pickle\n",
        "import joblib\n",
        "import pandas as pd\n",
        "\n",
        "r1 = ['CORREL','CHISQR','INTERSECT','BHATTACHARYYA','EMD']\n",
        "#r2 = ['Screen_Transition']\n",
        "\n",
        "df = pd.read_csv(csvName)\n",
        "xorigin = df[r1]\n",
        "dl = df.loc[0].to_list()\n",
        "df.drop(0,axis=0,inplace=True)\n",
        "\n",
        "fps, totalf, frameGap = dl[0], dl[1], dl[2]\n",
        "\n",
        "x = df[r1]\n",
        "#y = df['Screen_Transition']\n",
        "\n",
        "model = joblib.load('/content/drive/MyDrive/model/model2.pkl')\n",
        "\n",
        "pred = model.predict(x)\n",
        "\n",
        "predDf = pd.DataFrame(pred)\n",
        "predDf.columns = ['Screen_Transition']\n",
        "\n",
        "predList = predDf.loc[predDf['Screen_Transition']==1].index.tolist()\n",
        "\n",
        "new_row = pd.DataFrame([[str(len(predList))]], columns = predDf.columns)\n",
        "predDf = pd.concat([predDf.iloc[:0], new_row, predDf.iloc[0:]], ignore_index = True)\n",
        "\n",
        "acttime = []\n",
        "for i in range(len(predList)):\n",
        "    sec = predList[i]*frameGap/fps\n",
        "    minute = int(sec // 60)\n",
        "    sec = sec - (minute*60)\n",
        "    acttime.append(str(minute)+'분 '+str(sec)+'초')\n",
        "\n",
        "print(\"총 장면전환 개수 : \", len(predList))\n",
        "\n",
        "for i in range(len(acttime)):\n",
        "    print('\\t\\t'+acttime[i])\n",
        "\n",
        "x = pd.concat([xorigin,predDf],axis=1)\n",
        "\n",
        "x.to_csv(csvName, index = False, mode='w')"
      ],
      "metadata": {
        "colab": {
          "base_uri": "https://localhost:8080/"
        },
        "id": "4NWnmN0GlQCv",
        "outputId": "52fa68af-ea4d-4386-c336-683cc9b3648f"
      },
      "execution_count": 29,
      "outputs": [
        {
          "output_type": "stream",
          "name": "stdout",
          "text": [
            "총 장면전환 개수 :  40\n",
            "\t\t0분 12.0초\n",
            "\t\t0분 15.0초\n",
            "\t\t0분 33.0초\n",
            "\t\t0분 36.0초\n",
            "\t\t0분 51.0초\n",
            "\t\t0분 54.0초\n",
            "\t\t2분 12.0초\n",
            "\t\t5분 24.0초\n",
            "\t\t5분 39.0초\n",
            "\t\t6분 12.0초\n",
            "\t\t6분 15.0초\n",
            "\t\t6분 21.0초\n",
            "\t\t6분 24.0초\n",
            "\t\t9분 48.0초\n",
            "\t\t10분 24.0초\n",
            "\t\t10분 30.0초\n",
            "\t\t10분 48.0초\n",
            "\t\t11분 6.0초\n",
            "\t\t11분 24.0초\n",
            "\t\t11분 42.0초\n",
            "\t\t12분 9.0초\n",
            "\t\t12분 18.0초\n",
            "\t\t13분 0.0초\n",
            "\t\t13분 3.0초\n",
            "\t\t13분 9.0초\n",
            "\t\t16분 57.0초\n",
            "\t\t17분 3.0초\n",
            "\t\t18분 51.0초\n",
            "\t\t19분 27.0초\n",
            "\t\t19분 48.0초\n",
            "\t\t20분 36.0초\n",
            "\t\t20분 39.0초\n",
            "\t\t20분 51.0초\n",
            "\t\t21분 9.0초\n",
            "\t\t22분 57.0초\n",
            "\t\t23분 33.0초\n",
            "\t\t23분 54.0초\n",
            "\t\t24분 15.0초\n",
            "\t\t24분 54.0초\n",
            "\t\t25분 54.0초\n"
          ]
        }
      ]
    },
    {
      "cell_type": "code",
      "source": [],
      "metadata": {
        "id": "Gh98HsDolYl4"
      },
      "execution_count": null,
      "outputs": []
    }
  ]
}