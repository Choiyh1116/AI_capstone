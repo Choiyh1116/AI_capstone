{
  "nbformat": 4,
  "nbformat_minor": 0,
  "metadata": {
    "colab": {
      "provenance": [],
      "include_colab_link": true
    },
    "kernelspec": {
      "name": "python3",
      "display_name": "Python 3"
    },
    "language_info": {
      "name": "python"
    },
    "accelerator": "GPU",
    "gpuClass": "standard"
  },
  "cells": [
    {
      "cell_type": "markdown",
      "metadata": {
        "id": "view-in-github",
        "colab_type": "text"
      },
      "source": [
        "<a href=\"https://colab.research.google.com/github/Choiyh1116/AI_capstone/blob/CHOI/Code/VideoCheck3.ipynb\" target=\"_parent\"><img src=\"https://colab.research.google.com/assets/colab-badge.svg\" alt=\"Open In Colab\"/></a>"
      ]
    },
    {
      "cell_type": "code",
      "source": [
        "!pip install pytube\n",
        "from IPython.display import YouTubeVideo\n",
        "from google.colab import drive\n",
        "import os, sys\n",
        "from pytube import YouTube\n",
        "drive.mount('/content/drive')\n",
        "path = \"/content/drive/My Drive/video\"\n",
        "title = \"4\"\n",
        "attitle = title + \".mp4\"\n",
        "os.chdir(path)\n",
        "\n",
        "youtube = YouTube(\"https://www.youtube.com/watch?v=-NfZt6pUexo&ab_channel=JaehoKim\")\n",
        "\n",
        "print(youtube.title)\n",
        "video = youtube.streams.get_highest_resolution()\n",
        "vd = video.download()\n",
        "os.rename(vd, attitle)"
      ],
      "metadata": {
        "colab": {
          "base_uri": "https://localhost:8080/"
        },
        "id": "wyoaEnuBuQA4",
        "outputId": "1510776b-d20e-48f9-85be-14e1db2f7912"
      },
      "execution_count": 3,
      "outputs": [
        {
          "output_type": "stream",
          "name": "stdout",
          "text": [
            "Looking in indexes: https://pypi.org/simple, https://us-python.pkg.dev/colab-wheels/public/simple/\n",
            "Requirement already satisfied: pytube in /usr/local/lib/python3.7/dist-packages (12.1.0)\n",
            "Drive already mounted at /content/drive; to attempt to forcibly remount, call drive.mount(\"/content/drive\", force_remount=True).\n",
            "1-1 공학설계의배경(창의적기초공학설계)\n"
          ]
        }
      ]
    },
    {
      "cell_type": "code",
      "execution_count": 4,
      "metadata": {
        "id": "laUqThSCklNd",
        "colab": {
          "base_uri": "https://localhost:8080/"
        },
        "outputId": "1c2b6412-d671-46c8-d8d1-928ea19d266c"
      },
      "outputs": [
        {
          "output_type": "stream",
          "name": "stdout",
          "text": [
            "/content/drive/My Drive/video/4.mp4\n",
            "/content/drive/My Drive/video/4.csv\n"
          ]
        }
      ],
      "source": [
        "import torch\n",
        "import cv2\n",
        "import os\n",
        "import numpy as np\n",
        "import matplotlib.pylab as plt\n",
        "import time\n",
        "\n",
        "vidName = path + \"/\" + title + \".mp4\"\n",
        "methods = ['CORREL', 'CHISQR', 'INTERSECT', 'BHATTACHARYYA', 'EMD']\n",
        "hists = []\n",
        "\n",
        "print(vidName)\n",
        "\n",
        "#csv파일관련\n",
        "cor, chi, ist, bha, emd, sct = list(), list(), list(), list(), list(), list()\n",
        "csvName = path + \"/\" + title + \".csv\"\n",
        "filecsv = open(csvName, \"w\")\n",
        "\n",
        "print(csvName)\n",
        "\n",
        "#영상 못불러오면 재시도\n",
        "\"\"\"if not vidcap.isOpened():\n",
        "    print(\"Could not Open..\")\n",
        "    exit(0)\"\"\"\n",
        "\n",
        "vidcap = cv2.VideoCapture(vidName)\n",
        "while(not vidcap.isOpened()):\n",
        "  print(\"Could not Open..\")\n",
        "  time.sleep(1)\n",
        "  vidcap = cv2.VideoCapture(vidName)\n",
        "\n",
        "count = 0\n",
        "\n",
        "\n",
        "\n",
        "#각각 초당프레임, 영상 총 프레임 수, 계산된 영상 길이(초단위)\n",
        "while(True):\n",
        "  fps = int(vidcap.get(cv2.CAP_PROP_FPS))\n",
        "  if(fps!=0):\n",
        "    break\n",
        "  else:\n",
        "    print(\"file is not loading...\")\n",
        "totalf = vidcap.get(cv2.CAP_PROP_FRAME_COUNT)\n",
        "totalt = totalf/fps\n",
        "#print(\"FPS : %d\\t영상길이 : %f\"%(fps,totalt))\n",
        "\n",
        "#코드돌리는시간이 너무 길다면, 조절한다 -> frameGap\n",
        "frameGap = fps*3\n",
        "gapCount = int(frameGap-1)\n",
        "\n",
        "while(vidcap.isOpened()):\n",
        "    if(gapCount==0):\n",
        "        ret, image = vidcap.read()\n",
        "        gapCount = int(frameGap-1)\n",
        "    else:\n",
        "        ret = vidcap.grab()\n",
        "        gapCount -= 1\n",
        "        continue\n",
        "    if ret:\n",
        "        if(int (vidcap.get(1) % frameGap == 0)):\n",
        "            hsv = cv2.cvtColor(image, cv2.COLOR_BGR2HSV)\n",
        "            hist = cv2.calcHist([hsv], [0, 1], None, [180, 256], [0, 180, 0, 256])\n",
        "            cv2.normalize(hist, hist, 0, 1, cv2.NORM_MINMAX)\n",
        "            hists.append(hist)\n",
        "                \n",
        "            if(len(hists)==2):\n",
        "                query = hists[0]\n",
        "                for index, name in enumerate(methods):\n",
        "    \n",
        "                    for i, histogram in enumerate(hists):\n",
        "                        if(i == 0):\n",
        "                            continue\n",
        "                        compare = cv2.compareHist(query, histogram, index) \n",
        "        \n",
        "                        if(index == cv2.HISTCMP_INTERSECT):\n",
        "                            compare = compare/np.sum(query)\n",
        "                        \n",
        "                        if(name == 'CORREL'):\n",
        "                            cor.append(compare)\n",
        "                        if(name == 'CHISQR'):\n",
        "                            chi.append(compare)\n",
        "                        if(name == 'INTERSECT'):\n",
        "                            ist.append(compare)\n",
        "                        if(name == 'BHATTACHARYYA'):\n",
        "                            bha.append(compare)\n",
        "                        if(name == 'EMD'):\n",
        "                            emd.append(compare)\n",
        "                            sct.append(0)\n",
        "                            \n",
        "                del(hists[0])\n",
        "            \n",
        "            \n",
        "            count += 1\n",
        "    else:\n",
        "        break\n",
        "        \n",
        "filecsv.write('CORREL,CHISQR,INTERSECT,BHATTACHARYYA,EMD,Screen_Transition\\n')\n",
        "filecsv.write(str(fps)+','+str(totalf)+','+str(frameGap)+',0,0,0\\n')\n",
        "for i in range(len(cor)):\n",
        "    filecsv.write(str(cor[i]) + ',' + str(chi[i]) + ',' + str(ist[i]) + ',' + str(bha[i]) + ',' + str(emd[i]) + ',' + str(sct[i]) + '\\n')\n",
        "    \n",
        "filecsv.close()\n",
        "\n",
        "del(cor,chi,ist,bha,emd,sct)\n",
        "\n",
        "vidcap.release()"
      ]
    },
    {
      "cell_type": "code",
      "source": [
        "import pickle\n",
        "import joblib\n",
        "import pandas as pd\n",
        "\n",
        "df = pd.read_csv(csvName)\n",
        "dl = df.loc[0].to_list()\n",
        "df.drop(0,axis=0,inplace=True)\n",
        "\n",
        "fps, totalf, frameGap = dl[0], dl[1], dl[2]\n",
        "\n",
        "r1 = ['CORREL','CHISQR','INTERSECT','BHATTACHARYYA','EMD']\n",
        "#r2 = ['Screen_Transition']\n",
        "\n",
        "x = df[r1]\n",
        "#y = df['Screen_Transition']\n",
        "\n",
        "model = joblib.load('/content/drive/MyDrive/model/model2.pkl')\n",
        "\n",
        "pred = model.predict(x)\n",
        "\n",
        "predDf = pd.DataFrame(pred)\n",
        "predDf.columns = ['Screen_Transition']\n",
        "\n",
        "predList = predDf.loc[predDf['Screen_Transition']==1].index.tolist()\n",
        "\n",
        "acttime = []\n",
        "for i in range(len(predList)):\n",
        "    sec = predList[i]*frameGap/fps\n",
        "    minute = int(sec // 60)\n",
        "    sec = sec - (minute*60)\n",
        "    acttime.append(str(minute)+'분 '+str(sec)+'초')\n",
        "\n",
        "print(\"총 장면전환 개수 : %d\", len(predList))\n",
        "\n",
        "for i in range(len(acttime)):\n",
        "    print('\\t\\t'+acttime[i])\n",
        "\n",
        "x = pd.concat([x,predDf],axis=1)\n",
        "\n",
        "x.to_csv(csvName, mode='w')"
      ],
      "metadata": {
        "colab": {
          "base_uri": "https://localhost:8080/",
          "height": 376
        },
        "id": "4NWnmN0GlQCv",
        "outputId": "f62fe36a-8082-4022-c966-45341bc75889"
      },
      "execution_count": 5,
      "outputs": [
        {
          "output_type": "error",
          "ename": "FileNotFoundError",
          "evalue": "ignored",
          "traceback": [
            "\u001b[0;31m---------------------------------------------------------------------------\u001b[0m",
            "\u001b[0;31mFileNotFoundError\u001b[0m                         Traceback (most recent call last)",
            "\u001b[0;32m<ipython-input-5-4cb88c911cf0>\u001b[0m in \u001b[0;36m<module>\u001b[0;34m\u001b[0m\n\u001b[1;32m     15\u001b[0m \u001b[0;31m#y = df['Screen_Transition']\u001b[0m\u001b[0;34m\u001b[0m\u001b[0;34m\u001b[0m\u001b[0;34m\u001b[0m\u001b[0m\n\u001b[1;32m     16\u001b[0m \u001b[0;34m\u001b[0m\u001b[0m\n\u001b[0;32m---> 17\u001b[0;31m \u001b[0mmodel\u001b[0m \u001b[0;34m=\u001b[0m \u001b[0mjoblib\u001b[0m\u001b[0;34m.\u001b[0m\u001b[0mload\u001b[0m\u001b[0;34m(\u001b[0m\u001b[0;34m'/content/drive/MyDrive/model/model2.pkl'\u001b[0m\u001b[0;34m)\u001b[0m\u001b[0;34m\u001b[0m\u001b[0;34m\u001b[0m\u001b[0m\n\u001b[0m\u001b[1;32m     18\u001b[0m \u001b[0;34m\u001b[0m\u001b[0m\n\u001b[1;32m     19\u001b[0m \u001b[0mpred\u001b[0m \u001b[0;34m=\u001b[0m \u001b[0mmodel\u001b[0m\u001b[0;34m.\u001b[0m\u001b[0mpredict\u001b[0m\u001b[0;34m(\u001b[0m\u001b[0mx\u001b[0m\u001b[0;34m)\u001b[0m\u001b[0;34m\u001b[0m\u001b[0;34m\u001b[0m\u001b[0m\n",
            "\u001b[0;32m/usr/local/lib/python3.7/dist-packages/joblib/numpy_pickle.py\u001b[0m in \u001b[0;36mload\u001b[0;34m(filename, mmap_mode)\u001b[0m\n\u001b[1;32m    648\u001b[0m             \u001b[0mobj\u001b[0m \u001b[0;34m=\u001b[0m \u001b[0m_unpickle\u001b[0m\u001b[0;34m(\u001b[0m\u001b[0mfobj\u001b[0m\u001b[0;34m)\u001b[0m\u001b[0;34m\u001b[0m\u001b[0;34m\u001b[0m\u001b[0m\n\u001b[1;32m    649\u001b[0m     \u001b[0;32melse\u001b[0m\u001b[0;34m:\u001b[0m\u001b[0;34m\u001b[0m\u001b[0;34m\u001b[0m\u001b[0m\n\u001b[0;32m--> 650\u001b[0;31m         \u001b[0;32mwith\u001b[0m \u001b[0mopen\u001b[0m\u001b[0;34m(\u001b[0m\u001b[0mfilename\u001b[0m\u001b[0;34m,\u001b[0m \u001b[0;34m'rb'\u001b[0m\u001b[0;34m)\u001b[0m \u001b[0;32mas\u001b[0m \u001b[0mf\u001b[0m\u001b[0;34m:\u001b[0m\u001b[0;34m\u001b[0m\u001b[0;34m\u001b[0m\u001b[0m\n\u001b[0m\u001b[1;32m    651\u001b[0m             \u001b[0;32mwith\u001b[0m \u001b[0m_read_fileobject\u001b[0m\u001b[0;34m(\u001b[0m\u001b[0mf\u001b[0m\u001b[0;34m,\u001b[0m \u001b[0mfilename\u001b[0m\u001b[0;34m,\u001b[0m \u001b[0mmmap_mode\u001b[0m\u001b[0;34m)\u001b[0m \u001b[0;32mas\u001b[0m \u001b[0mfobj\u001b[0m\u001b[0;34m:\u001b[0m\u001b[0;34m\u001b[0m\u001b[0;34m\u001b[0m\u001b[0m\n\u001b[1;32m    652\u001b[0m                 \u001b[0;32mif\u001b[0m \u001b[0misinstance\u001b[0m\u001b[0;34m(\u001b[0m\u001b[0mfobj\u001b[0m\u001b[0;34m,\u001b[0m \u001b[0mstr\u001b[0m\u001b[0;34m)\u001b[0m\u001b[0;34m:\u001b[0m\u001b[0;34m\u001b[0m\u001b[0;34m\u001b[0m\u001b[0m\n",
            "\u001b[0;31mFileNotFoundError\u001b[0m: [Errno 2] No such file or directory: '/content/drive/MyDrive/model/model2.pkl'"
          ]
        }
      ]
    },
    {
      "cell_type": "code",
      "source": [],
      "metadata": {
        "id": "vfRsXc_A2ieS"
      },
      "execution_count": null,
      "outputs": []
    }
  ]
}