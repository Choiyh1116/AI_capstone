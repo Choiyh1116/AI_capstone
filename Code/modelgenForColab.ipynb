{
  "nbformat": 4,
  "nbformat_minor": 0,
  "metadata": {
    "colab": {
      "provenance": [],
      "authorship_tag": "ABX9TyOzw6O+IzBcjT4U3x7lxC2Z",
      "include_colab_link": true
    },
    "kernelspec": {
      "name": "python3",
      "display_name": "Python 3"
    },
    "language_info": {
      "name": "python"
    }
  },
  "cells": [
    {
      "cell_type": "markdown",
      "metadata": {
        "id": "view-in-github",
        "colab_type": "text"
      },
      "source": [
        "<a href=\"https://colab.research.google.com/github/Choiyh1116/AI_capstone/blob/CHOI/Code/modelgenForColab.ipynb\" target=\"_parent\"><img src=\"https://colab.research.google.com/assets/colab-badge.svg\" alt=\"Open In Colab\"/></a>"
      ]
    },
    {
      "cell_type": "code",
      "source": [
        "from google.colab import drive\n",
        "drive.mount('/content/drive')\n",
        "\n",
        "import os\n",
        "os.chdir('/content/drive/MyDrive/csv')"
      ],
      "metadata": {
        "colab": {
          "base_uri": "https://localhost:8080/"
        },
        "id": "ZvuaQyP52-lB",
        "outputId": "58d59eb5-cf00-4559-ff0a-274da8d33399"
      },
      "execution_count": 108,
      "outputs": [
        {
          "output_type": "stream",
          "name": "stdout",
          "text": [
            "Drive already mounted at /content/drive; to attempt to forcibly remount, call drive.mount(\"/content/drive\", force_remount=True).\n"
          ]
        }
      ]
    },
    {
      "cell_type": "code",
      "execution_count": 109,
      "metadata": {
        "id": "-XalMsxB2yG3"
      },
      "outputs": [],
      "source": [
        "import pandas as pd\n",
        "import numpy as np\n",
        "\n",
        "\"\"\" ratio = 0개수 비율\"\"\"\n",
        "ratio = 0.3\n",
        "\n",
        "dd = []\n",
        "nn = []\n",
        "xx = []\n",
        "yy = []\n",
        "for i in range(0,8):\n",
        "    csvName = str(i)+'.csv'\n",
        "    dd.append(pd.read_csv(csvName))\n",
        "    dd[i].drop(0,axis=0,inplace=True)\n",
        "    nn.append(dd[i].loc[dd[i]['Screen_Transition']==1])\n",
        "ddf = []\n",
        "\n",
        "for i in range(len(dd)):\n",
        "    for k in range(5):\n",
        "        df = dd[i].sample(frac=ratio)\n",
        "        df = pd.concat([df,nn[i]], ignore_index=True)\n",
        "        ddf.append(df)\n",
        "\n",
        "np.any(np.isnan(df))\n",
        "np.all(np.isfinite(df))\n",
        "\n",
        "for i in range(len(ddf)):\n",
        "    xx.append(ddf[i][['CORREL','CHISQR','INTERSECT','BHATTACHARYYA','EMD']])\n",
        "    yy.append(ddf[i]['Screen_Transition'])"
      ]
    },
    {
      "cell_type": "code",
      "source": [
        "import sklearn\n",
        "import numpy as np\n",
        "from sklearn.tree import DecisionTreeClassifier\n",
        "model = DecisionTreeClassifier(random_state=0)\n",
        "\n",
        "for i in range(len(xx)):\n",
        "    model.fit(xx[i],yy[i])\n",
        "    print(i, \"fitted\")\n",
        "print(\"Done.\")"
      ],
      "metadata": {
        "colab": {
          "base_uri": "https://localhost:8080/"
        },
        "id": "qCvOAUVF9c9Z",
        "outputId": "190dc3b9-18c6-4e99-a004-327b335559a9"
      },
      "execution_count": 110,
      "outputs": [
        {
          "output_type": "stream",
          "name": "stdout",
          "text": [
            "0 fitted\n",
            "1 fitted\n",
            "2 fitted\n",
            "3 fitted\n",
            "4 fitted\n",
            "5 fitted\n",
            "6 fitted\n",
            "7 fitted\n",
            "8 fitted\n",
            "9 fitted\n",
            "10 fitted\n",
            "11 fitted\n",
            "12 fitted\n",
            "13 fitted\n",
            "14 fitted\n",
            "15 fitted\n",
            "16 fitted\n",
            "17 fitted\n",
            "18 fitted\n",
            "19 fitted\n",
            "20 fitted\n",
            "21 fitted\n",
            "22 fitted\n",
            "23 fitted\n",
            "24 fitted\n",
            "25 fitted\n",
            "26 fitted\n",
            "27 fitted\n",
            "28 fitted\n",
            "29 fitted\n",
            "30 fitted\n",
            "31 fitted\n",
            "32 fitted\n",
            "33 fitted\n",
            "34 fitted\n",
            "35 fitted\n",
            "36 fitted\n",
            "37 fitted\n",
            "38 fitted\n",
            "39 fitted\n",
            "Done.\n"
          ]
        }
      ]
    },
    {
      "cell_type": "code",
      "source": [
        "\n",
        "import pickle\n",
        "import joblib\n",
        "joblib.dump(model, '/content/drive/MyDrive/model/model3.pkl')"
      ],
      "metadata": {
        "colab": {
          "base_uri": "https://localhost:8080/"
        },
        "id": "XQ8DWpvp-Bnc",
        "outputId": "890137c2-8324-4119-8d8f-c57f05df47f1"
      },
      "execution_count": 111,
      "outputs": [
        {
          "output_type": "execute_result",
          "data": {
            "text/plain": [
              "['/content/drive/MyDrive/model/model3.pkl']"
            ]
          },
          "metadata": {},
          "execution_count": 111
        }
      ]
    }
  ]
}